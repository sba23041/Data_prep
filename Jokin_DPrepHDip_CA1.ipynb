{
 "cells": [
  {
   "cell_type": "code",
   "execution_count": 1,
   "id": "af059290",
   "metadata": {},
   "outputs": [],
   "source": [
    "# Libraries to be used \n",
    "import pandas as pd\n",
    "import numpy as np\n",
    "import seaborn as sns #visualisation\n",
    "import matplotlib.pyplot as plt #visualisation\n",
    "%matplotlib inline\n",
    "sns.set(color_codes=True)"
   ]
  },
  {
   "cell_type": "code",
   "execution_count": 2,
   "id": "c8bfc559",
   "metadata": {},
   "outputs": [
    {
     "name": "stdout",
     "output_type": "stream",
     "text": [
      "APS Failure Set successfully imported into a dataframe\n"
     ]
    }
   ],
   "source": [
    "# Import the file into a dataframe \n",
    "\n",
    "try:\n",
    "    aps_failure_set=pd.read_csv(r\"\\\\sedna\\jokin.ormazabal$\\$Profile\\Desktop\\Master\\Data Prep\\aps_failure_set.csv\")\n",
    "    print(\"APS Failure Set successfully imported into a dataframe\")\n",
    "except:\n",
    "    print(\"Something went wrong importing the APS Failure Set\")\n",
    "\n",
    "#As comma is the defaulted delimiter, we dont need to specify it\n",
    "\n",
    "#try to do it trough a url (desde github?? ) / lo he encontrado en kaggel\n"
   ]
  },
  {
   "cell_type": "markdown",
   "id": "427ed062",
   "metadata": {},
   "source": [
    "## Analyze the context of the dataset"
   ]
  },
  {
   "cell_type": "code",
   "execution_count": 3,
   "id": "b07a3004",
   "metadata": {},
   "outputs": [
    {
     "data": {
      "text/html": [
       "<div>\n",
       "<style scoped>\n",
       "    .dataframe tbody tr th:only-of-type {\n",
       "        vertical-align: middle;\n",
       "    }\n",
       "\n",
       "    .dataframe tbody tr th {\n",
       "        vertical-align: top;\n",
       "    }\n",
       "\n",
       "    .dataframe thead th {\n",
       "        text-align: right;\n",
       "    }\n",
       "</style>\n",
       "<table border=\"1\" class=\"dataframe\">\n",
       "  <thead>\n",
       "    <tr style=\"text-align: right;\">\n",
       "      <th></th>\n",
       "      <th>class</th>\n",
       "      <th>aa_000</th>\n",
       "      <th>ab_000</th>\n",
       "      <th>ac_000</th>\n",
       "      <th>ad_000</th>\n",
       "      <th>ae_000</th>\n",
       "      <th>af_000</th>\n",
       "      <th>ag_000</th>\n",
       "      <th>ag_001</th>\n",
       "      <th>ag_002</th>\n",
       "      <th>...</th>\n",
       "      <th>ee_002</th>\n",
       "      <th>ee_003</th>\n",
       "      <th>ee_004</th>\n",
       "      <th>ee_005</th>\n",
       "      <th>ee_006</th>\n",
       "      <th>ee_007</th>\n",
       "      <th>ee_008</th>\n",
       "      <th>ee_009</th>\n",
       "      <th>ef_000</th>\n",
       "      <th>eg_000</th>\n",
       "    </tr>\n",
       "  </thead>\n",
       "  <tbody>\n",
       "    <tr>\n",
       "      <th>0</th>\n",
       "      <td>neg</td>\n",
       "      <td>76698</td>\n",
       "      <td>na</td>\n",
       "      <td>2130706438</td>\n",
       "      <td>280</td>\n",
       "      <td>0</td>\n",
       "      <td>0</td>\n",
       "      <td>0</td>\n",
       "      <td>0</td>\n",
       "      <td>0</td>\n",
       "      <td>...</td>\n",
       "      <td>1240520</td>\n",
       "      <td>493384</td>\n",
       "      <td>721044</td>\n",
       "      <td>469792</td>\n",
       "      <td>339156</td>\n",
       "      <td>157956</td>\n",
       "      <td>73224</td>\n",
       "      <td>0</td>\n",
       "      <td>0</td>\n",
       "      <td>0</td>\n",
       "    </tr>\n",
       "    <tr>\n",
       "      <th>1</th>\n",
       "      <td>neg</td>\n",
       "      <td>33058</td>\n",
       "      <td>na</td>\n",
       "      <td>0</td>\n",
       "      <td>na</td>\n",
       "      <td>0</td>\n",
       "      <td>0</td>\n",
       "      <td>0</td>\n",
       "      <td>0</td>\n",
       "      <td>0</td>\n",
       "      <td>...</td>\n",
       "      <td>421400</td>\n",
       "      <td>178064</td>\n",
       "      <td>293306</td>\n",
       "      <td>245416</td>\n",
       "      <td>133654</td>\n",
       "      <td>81140</td>\n",
       "      <td>97576</td>\n",
       "      <td>1500</td>\n",
       "      <td>0</td>\n",
       "      <td>0</td>\n",
       "    </tr>\n",
       "    <tr>\n",
       "      <th>2</th>\n",
       "      <td>neg</td>\n",
       "      <td>41040</td>\n",
       "      <td>na</td>\n",
       "      <td>228</td>\n",
       "      <td>100</td>\n",
       "      <td>0</td>\n",
       "      <td>0</td>\n",
       "      <td>0</td>\n",
       "      <td>0</td>\n",
       "      <td>0</td>\n",
       "      <td>...</td>\n",
       "      <td>277378</td>\n",
       "      <td>159812</td>\n",
       "      <td>423992</td>\n",
       "      <td>409564</td>\n",
       "      <td>320746</td>\n",
       "      <td>158022</td>\n",
       "      <td>95128</td>\n",
       "      <td>514</td>\n",
       "      <td>0</td>\n",
       "      <td>0</td>\n",
       "    </tr>\n",
       "    <tr>\n",
       "      <th>3</th>\n",
       "      <td>neg</td>\n",
       "      <td>12</td>\n",
       "      <td>0</td>\n",
       "      <td>70</td>\n",
       "      <td>66</td>\n",
       "      <td>0</td>\n",
       "      <td>10</td>\n",
       "      <td>0</td>\n",
       "      <td>0</td>\n",
       "      <td>0</td>\n",
       "      <td>...</td>\n",
       "      <td>240</td>\n",
       "      <td>46</td>\n",
       "      <td>58</td>\n",
       "      <td>44</td>\n",
       "      <td>10</td>\n",
       "      <td>0</td>\n",
       "      <td>0</td>\n",
       "      <td>0</td>\n",
       "      <td>4</td>\n",
       "      <td>32</td>\n",
       "    </tr>\n",
       "    <tr>\n",
       "      <th>4</th>\n",
       "      <td>neg</td>\n",
       "      <td>60874</td>\n",
       "      <td>na</td>\n",
       "      <td>1368</td>\n",
       "      <td>458</td>\n",
       "      <td>0</td>\n",
       "      <td>0</td>\n",
       "      <td>0</td>\n",
       "      <td>0</td>\n",
       "      <td>0</td>\n",
       "      <td>...</td>\n",
       "      <td>622012</td>\n",
       "      <td>229790</td>\n",
       "      <td>405298</td>\n",
       "      <td>347188</td>\n",
       "      <td>286954</td>\n",
       "      <td>311560</td>\n",
       "      <td>433954</td>\n",
       "      <td>1218</td>\n",
       "      <td>0</td>\n",
       "      <td>0</td>\n",
       "    </tr>\n",
       "  </tbody>\n",
       "</table>\n",
       "<p>5 rows × 171 columns</p>\n",
       "</div>"
      ],
      "text/plain": [
       "  class  aa_000 ab_000      ac_000 ad_000 ae_000 af_000 ag_000 ag_001 ag_002  \\\n",
       "0   neg   76698     na  2130706438    280      0      0      0      0      0   \n",
       "1   neg   33058     na           0     na      0      0      0      0      0   \n",
       "2   neg   41040     na         228    100      0      0      0      0      0   \n",
       "3   neg      12      0          70     66      0     10      0      0      0   \n",
       "4   neg   60874     na        1368    458      0      0      0      0      0   \n",
       "\n",
       "   ...   ee_002  ee_003  ee_004  ee_005  ee_006  ee_007  ee_008 ee_009 ef_000  \\\n",
       "0  ...  1240520  493384  721044  469792  339156  157956   73224      0      0   \n",
       "1  ...   421400  178064  293306  245416  133654   81140   97576   1500      0   \n",
       "2  ...   277378  159812  423992  409564  320746  158022   95128    514      0   \n",
       "3  ...      240      46      58      44      10       0       0      0      4   \n",
       "4  ...   622012  229790  405298  347188  286954  311560  433954   1218      0   \n",
       "\n",
       "  eg_000  \n",
       "0      0  \n",
       "1      0  \n",
       "2      0  \n",
       "3     32  \n",
       "4      0  \n",
       "\n",
       "[5 rows x 171 columns]"
      ]
     },
     "execution_count": 3,
     "metadata": {},
     "output_type": "execute_result"
    }
   ],
   "source": [
    "aps_failure_set.head(5)"
   ]
  },
  {
   "cell_type": "code",
   "execution_count": 4,
   "id": "64236338",
   "metadata": {
    "scrolled": true
   },
   "outputs": [
    {
     "data": {
      "text/plain": [
       "(60000, 171)"
      ]
     },
     "execution_count": 4,
     "metadata": {},
     "output_type": "execute_result"
    }
   ],
   "source": [
    "aps_failure_set.shape"
   ]
  },
  {
   "cell_type": "code",
   "execution_count": 5,
   "id": "970c13ce",
   "metadata": {},
   "outputs": [],
   "source": [
    "Per_APS=str(round(aps_failure_set['class'].value_counts()['pos']/60000,2)*100) \n",
    "Per_NotAPS=str(round(aps_failure_set['class'].value_counts()['neg']/60000,2)*100)\n",
    "\n",
    "# They need to be in string format even there are numbers to be able to concatenate them latter\n"
   ]
  },
  {
   "cell_type": "code",
   "execution_count": 6,
   "id": "15328e62",
   "metadata": {
    "scrolled": true
   },
   "outputs": [
    {
     "name": "stderr",
     "output_type": "stream",
     "text": [
      "C:\\Users\\jokin.ormazabal\\Anaconda3\\lib\\site-packages\\seaborn\\_decorators.py:36: FutureWarning: Pass the following variables as keyword args: x, y. From version 0.12, the only valid positional argument will be `data`, and passing other arguments without an explicit keyword will result in an error or misinterpretation.\n",
      "  warnings.warn(\n"
     ]
    },
    {
     "data": {
      "image/png": "[encoded data removed]",
      "text/plain": [
       "<Figure size 432x288 with 1 Axes>"
      ]
     },
     "metadata": {},
     "output_type": "display_data"
    },
    {
     "name": "stdout",
     "output_type": "stream",
     "text": [
      "2.0% of the trucks have issues related to the APS system\n",
      "98.0% of the trucks have issues NOT related to the APS system\n"
     ]
    }
   ],
   "source": [
    "sns.barplot(aps_failure_set['class'].unique(),aps_failure_set['class'].value_counts())\n",
    "plt.title('Distribution between pos and neg')\n",
    "plt.xlabel('Class')\n",
    "plt.ylabel('Count')\n",
    "plt.show() # I show first the plot, so the statements fall below for a better view\n",
    "\n",
    "print(Per_APS + '%'+' of the trucks have issues related to the APS system')\n",
    "print(Per_NotAPS + '%'+' of the trucks have issues NOT related to the APS system')"
   ]
  },
  {
   "cell_type": "markdown",
   "id": "12ae2b95",
   "metadata": {},
   "source": [
    "#### Looking at the explanation provided and the shape of the dataframe, each cell of the dataset contains the number of errors flagged by each of the 170 sensors for 6000 trucks. This is also tagged by failures regarding the APS (POS) and not (NEG). In this analysis I will illustrate which of those sensors are more likely to predict an error correlated with a failure on the APS system."
   ]
  },
  {
   "cell_type": "markdown",
   "id": "f912d071",
   "metadata": {},
   "source": [
    "### EXPLANATORY DATA ANALYSIS FOR APS RELATED FAILURES"
   ]
  },
  {
   "cell_type": "markdown",
   "id": "b583a77c",
   "metadata": {},
   "source": [
    "##### NULL VALUES"
   ]
  },
  {
   "cell_type": "code",
   "execution_count": 7,
   "id": "6e37227c",
   "metadata": {},
   "outputs": [],
   "source": [
    "aps_failures=aps_failure_set.loc[aps_failure_set['class']=='pos'] # Select only the trucks with APS failures\n",
    "\n",
    "aps_failures=aps_failures.drop(['class'],axis=1) # Drop the column class as its a string and doesnt provide any relevant information"
   ]
  },
  {
   "cell_type": "code",
   "execution_count": 8,
   "id": "5d63f4b0",
   "metadata": {},
   "outputs": [
    {
     "name": "stdout",
     "output_type": "stream",
     "text": [
      "The dataframe has not nulls\n"
     ]
    }
   ],
   "source": [
    "if aps_failures.isnull().sum().any():\n",
    "    print(\"The dataframe has nulls\")\n",
    "else:\n",
    "    print(\"The dataframe has not nulls\")"
   ]
  },
  {
   "cell_type": "markdown",
   "id": "022ee6dd",
   "metadata": {},
   "source": [
    "We know by looking at the data that it actually has na values but the function is not catching them.\n",
    "This happens because the na is a string and for python the value is actually not null. To avoid this I will replace the na value for null values that follow the expected format by numpy library\n",
    "It is important to always manually review the data and check that the output from the code make sense."
   ]
  },
  {
   "cell_type": "code",
   "execution_count": 9,
   "id": "f1939f73",
   "metadata": {},
   "outputs": [
    {
     "name": "stdout",
     "output_type": "stream",
     "text": [
      "The dataframe has nulls\n"
     ]
    }
   ],
   "source": [
    "aps_failures=aps_failures.replace(\"na\",np.nan) \n",
    "\n",
    "if aps_failures.isnull().sum().any():\n",
    "    print(\"The dataframe has nulls\")\n",
    "else:\n",
    "    print(\"The dataframe has not nulls\")"
   ]
  },
  {
   "cell_type": "markdown",
   "id": "29bc32e8",
   "metadata": {},
   "source": [
    "As expected, the data has null values, so now It will interesting to see the % of nulls by sensor type"
   ]
  },
  {
   "cell_type": "code",
   "execution_count": 10,
   "id": "ad0ce0a9",
   "metadata": {},
   "outputs": [
    {
     "data": {
      "text/plain": [
       "(1000, 170)"
      ]
     },
     "execution_count": 10,
     "metadata": {},
     "output_type": "execute_result"
    }
   ],
   "source": [
    "aps_failures.shape\n"
   ]
  },
  {
   "cell_type": "code",
   "execution_count": 11,
   "id": "34a95604",
   "metadata": {},
   "outputs": [],
   "source": [
    "null_percentages=(aps_failures.isnull().sum()/1000*100)"
   ]
  },
  {
   "cell_type": "code",
   "execution_count": 12,
   "id": "c5897727",
   "metadata": {},
   "outputs": [
    {
     "name": "stdout",
     "output_type": "stream",
     "text": [
      "        High_Null\n",
      "aa_000        0.0\n",
      "ab_000       77.1\n",
      "ac_000       46.2\n",
      "ad_000       64.5\n",
      "ae_000       34.1\n",
      "...           ...\n",
      "ee_007        0.5\n",
      "ee_008        0.5\n",
      "ee_009        0.5\n",
      "ef_000       37.7\n",
      "eg_000       37.7\n",
      "\n",
      "[170 rows x 1 columns]\n"
     ]
    }
   ],
   "source": [
    "High_null_aps_failures = pd.DataFrame(null_percentages, columns=['High_Null']) #Data frame with the % of null values by column\n",
    "print (High_null_aps_failures)"
   ]
  },
  {
   "cell_type": "code",
   "execution_count": 13,
   "id": "5cbce992",
   "metadata": {},
   "outputs": [],
   "source": [
    "High_null_aps_failures.reset_index(drop=False, inplace=True) #I need to add an index as the sensor names where not counting as a propper column"
   ]
  },
  {
   "cell_type": "code",
   "execution_count": 14,
   "id": "18a7c609",
   "metadata": {},
   "outputs": [
    {
     "data": {
      "text/html": [
       "<div>\n",
       "<style scoped>\n",
       "    .dataframe tbody tr th:only-of-type {\n",
       "        vertical-align: middle;\n",
       "    }\n",
       "\n",
       "    .dataframe tbody tr th {\n",
       "        vertical-align: top;\n",
       "    }\n",
       "\n",
       "    .dataframe thead th {\n",
       "        text-align: right;\n",
       "    }\n",
       "</style>\n",
       "<table border=\"1\" class=\"dataframe\">\n",
       "  <thead>\n",
       "    <tr style=\"text-align: right;\">\n",
       "      <th></th>\n",
       "      <th>index</th>\n",
       "      <th>High_Null</th>\n",
       "    </tr>\n",
       "  </thead>\n",
       "  <tbody>\n",
       "    <tr>\n",
       "      <th>1</th>\n",
       "      <td>ab_000</td>\n",
       "      <td>77.1</td>\n",
       "    </tr>\n",
       "    <tr>\n",
       "      <th>2</th>\n",
       "      <td>ac_000</td>\n",
       "      <td>46.2</td>\n",
       "    </tr>\n",
       "    <tr>\n",
       "      <th>3</th>\n",
       "      <td>ad_000</td>\n",
       "      <td>64.5</td>\n",
       "    </tr>\n",
       "    <tr>\n",
       "      <th>4</th>\n",
       "      <td>ae_000</td>\n",
       "      <td>34.1</td>\n",
       "    </tr>\n",
       "    <tr>\n",
       "      <th>5</th>\n",
       "      <td>af_000</td>\n",
       "      <td>34.1</td>\n",
       "    </tr>\n",
       "  </tbody>\n",
       "</table>\n",
       "</div>"
      ],
      "text/plain": [
       "    index  High_Null\n",
       "1  ab_000       77.1\n",
       "2  ac_000       46.2\n",
       "3  ad_000       64.5\n",
       "4  ae_000       34.1\n",
       "5  af_000       34.1"
      ]
     },
     "execution_count": 14,
     "metadata": {},
     "output_type": "execute_result"
    }
   ],
   "source": [
    "High_null_aps_failures=High_null_aps_failures[High_null_aps_failures.iloc[:,1]>20] #Select the sensors with greater than 20% null values\n",
    "\n",
    "High_null_aps_failures.head(5)"
   ]
  },
  {
   "cell_type": "code",
   "execution_count": 15,
   "id": "f62409f6",
   "metadata": {},
   "outputs": [
    {
     "data": {
      "text/plain": [
       "(60, 2)"
      ]
     },
     "execution_count": 15,
     "metadata": {},
     "output_type": "execute_result"
    }
   ],
   "source": [
    "High_null_aps_failures.shape"
   ]
  },
  {
   "cell_type": "markdown",
   "id": "12828add",
   "metadata": {},
   "source": [
    "There are 60 sensors flagging no data 20% or more times. As I still have 110 sensors, I will eliminate those sensors and tag them as faulty sensors."
   ]
  },
  {
   "cell_type": "code",
   "execution_count": 16,
   "id": "3974acdc",
   "metadata": {},
   "outputs": [
    {
     "data": {
      "text/plain": [
       "(1000, 110)"
      ]
     },
     "execution_count": 16,
     "metadata": {},
     "output_type": "execute_result"
    }
   ],
   "source": [
    "faulty_sensors_aps=High_null_aps_failures.iloc[:,0].tolist() #get the name of the faulty sensors on a list \n",
    "\n",
    "aps_failures=aps_failures.drop(faulty_sensors_aps,axis=1)\n",
    "aps_failures.shape"
   ]
  },
  {
   "cell_type": "markdown",
   "id": "cc8a0c31",
   "metadata": {},
   "source": [
    "We droped what I considered faulty sensors by the high null values, but still we have nulls on the other sensors.\n",
    "The existance of this nulls makes the sample inconsistant as we have more records for some sensors. \n",
    "We will drop the rows with null values to make the data set equal for every sensor type."
   ]
  },
  {
   "cell_type": "code",
   "execution_count": 17,
   "id": "c7ced6b4",
   "metadata": {},
   "outputs": [
    {
     "data": {
      "text/plain": [
       "(861, 110)"
      ]
     },
     "execution_count": 17,
     "metadata": {},
     "output_type": "execute_result"
    }
   ],
   "source": [
    "aps_failures = aps_failures.dropna()\n",
    "aps_failures.shape"
   ]
  },
  {
   "cell_type": "markdown",
   "id": "2fe1684f",
   "metadata": {},
   "source": [
    "We have cleaned our dataset from nulls and \"faulty\" data\n",
    "The next step for a data normalization is to identify and remove the outliers."
   ]
  },
  {
   "cell_type": "markdown",
   "id": "0f8c7c25",
   "metadata": {},
   "source": [
    "##### OUTLIERS"
   ]
  },
  {
   "cell_type": "markdown",
   "id": "3788fb7c",
   "metadata": {},
   "source": [
    "Outliers are data points that dont follow the normal distribution of the variable, they are vastly high or low. To visualize this I will do a box plot for sensor bb_000; outliers are the points that fall outside of the box. "
   ]
  },
  {
   "cell_type": "code",
   "execution_count": 18,
   "id": "3b062b7f",
   "metadata": {},
   "outputs": [],
   "source": [
    "aps_failures=aps_failures.astype(float) # Convert all the df to float type. It got converted to int with so many cleaning\n"
   ]
  },
  {
   "cell_type": "code",
   "execution_count": 19,
   "id": "8aee62c4",
   "metadata": {},
   "outputs": [
    {
     "data": {
      "text/plain": [
       "<AxesSubplot:xlabel='bb_000'>"
      ]
     },
     "execution_count": 19,
     "metadata": {},
     "output_type": "execute_result"
    },
    {
     "data": {
      "image/png": "[encoded data removed]",
      "text/plain": [
       "<Figure size 432x288 with 1 Axes>"
      ]
     },
     "metadata": {},
     "output_type": "display_data"
    }
   ],
   "source": [
    "sns.boxplot(x=aps_failures['bb_000']) "
   ]
  },
  {
   "cell_type": "code",
   "execution_count": 20,
   "id": "4397bdab",
   "metadata": {},
   "outputs": [
    {
     "name": "stdout",
     "output_type": "stream",
     "text": [
      "aa_000     605760.0\n",
      "ag_000          0.0\n",
      "ag_001       7824.0\n",
      "ag_002     379654.0\n",
      "ag_003    3997910.0\n",
      "            ...    \n",
      "ee_005    5859046.0\n",
      "ee_006    5052078.0\n",
      "ee_007    2906890.0\n",
      "ee_008     506452.0\n",
      "ee_009       2118.0\n",
      "Length: 110, dtype: float64\n"
     ]
    }
   ],
   "source": [
    "#Indentify and remove outliers\n",
    "\n",
    "Q1 = aps_failures.quantile(0.25)\n",
    "Q3 = aps_failures.quantile(0.75)\n",
    "IQR = Q3 - Q1\n",
    "print(IQR) \n"
   ]
  },
  {
   "cell_type": "code",
   "execution_count": 21,
   "id": "80395700",
   "metadata": {},
   "outputs": [
    {
     "data": {
      "text/plain": [
       "(61, 110)"
      ]
     },
     "execution_count": 21,
     "metadata": {},
     "output_type": "execute_result"
    }
   ],
   "source": [
    "aps_failures = aps_failures[~((aps_failures < (Q1 - 1.5 * IQR)) |(aps_failures > (Q3 + 1.5 * IQR))).any(axis=1)]\n",
    "aps_failures.shape \n"
   ]
  },
  {
   "cell_type": "code",
   "execution_count": 22,
   "id": "802e47fb",
   "metadata": {},
   "outputs": [
    {
     "data": {
      "text/plain": [
       "<AxesSubplot:xlabel='bb_000'>"
      ]
     },
     "execution_count": 22,
     "metadata": {},
     "output_type": "execute_result"
    },
    {
     "data": {
      "image/png": "[encoded data removed]",
      "text/plain": [
       "<Figure size 432x288 with 1 Axes>"
      ]
     },
     "metadata": {},
     "output_type": "display_data"
    }
   ],
   "source": [
    "sns.boxplot(x=aps_failures['bb_000']) "
   ]
  },
  {
   "cell_type": "markdown",
   "id": "e809a756",
   "metadata": {},
   "source": [
    "As we can see on the new graph, the outliers have been removed."
   ]
  },
  {
   "cell_type": "markdown",
   "id": "2e05fafb",
   "metadata": {},
   "source": [
    "We have explained the context of the data received and cleaned it from any nulls, missing data, faulty sensors and outliers. This exercise has decreased our sample significantly from 1000 rows to 61 but o the other hand, I have now high quality data to rely on and use for predictions. "
   ]
  },
  {
   "cell_type": "markdown",
   "id": "69e5cffe",
   "metadata": {},
   "source": [
    "##### GET THE MEAN AND SELECT THE MOST RELEVANT SENSORS"
   ]
  },
  {
   "cell_type": "code",
   "execution_count": 23,
   "id": "3ee7281b",
   "metadata": {},
   "outputs": [],
   "source": [
    "aps_failures.loc['mean'] = aps_failures.mean() # Add a row with the mean of errors for each sensor"
   ]
  },
  {
   "cell_type": "code",
   "execution_count": 24,
   "id": "3ced7c21",
   "metadata": {},
   "outputs": [
    {
     "data": {
      "text/html": [
       "<div>\n",
       "<style scoped>\n",
       "    .dataframe tbody tr th:only-of-type {\n",
       "        vertical-align: middle;\n",
       "    }\n",
       "\n",
       "    .dataframe tbody tr th {\n",
       "        vertical-align: top;\n",
       "    }\n",
       "\n",
       "    .dataframe thead th {\n",
       "        text-align: right;\n",
       "    }\n",
       "</style>\n",
       "<table border=\"1\" class=\"dataframe\">\n",
       "  <thead>\n",
       "    <tr style=\"text-align: right;\">\n",
       "      <th></th>\n",
       "      <th>aa_000</th>\n",
       "      <th>ag_000</th>\n",
       "      <th>ag_001</th>\n",
       "      <th>ag_002</th>\n",
       "      <th>ag_003</th>\n",
       "      <th>ag_004</th>\n",
       "      <th>ag_005</th>\n",
       "      <th>ag_006</th>\n",
       "      <th>ag_007</th>\n",
       "      <th>ag_008</th>\n",
       "      <th>...</th>\n",
       "      <th>ee_000</th>\n",
       "      <th>ee_001</th>\n",
       "      <th>ee_002</th>\n",
       "      <th>ee_003</th>\n",
       "      <th>ee_004</th>\n",
       "      <th>ee_005</th>\n",
       "      <th>ee_006</th>\n",
       "      <th>ee_007</th>\n",
       "      <th>ee_008</th>\n",
       "      <th>ee_009</th>\n",
       "    </tr>\n",
       "  </thead>\n",
       "  <tbody>\n",
       "    <tr>\n",
       "      <th>1517</th>\n",
       "      <td>8.163160e+05</td>\n",
       "      <td>0.0</td>\n",
       "      <td>0.000000</td>\n",
       "      <td>0.000000</td>\n",
       "      <td>0.000000e+00</td>\n",
       "      <td>0.000000e+00</td>\n",
       "      <td>0.000000e+00</td>\n",
       "      <td>0.000000e+00</td>\n",
       "      <td>0.000000e+00</td>\n",
       "      <td>0.000000</td>\n",
       "      <td>...</td>\n",
       "      <td>0.000000e+00</td>\n",
       "      <td>0.000000e+00</td>\n",
       "      <td>0.000000e+00</td>\n",
       "      <td>0.000000e+00</td>\n",
       "      <td>0.000000e+00</td>\n",
       "      <td>0.000000e+00</td>\n",
       "      <td>0.000000e+00</td>\n",
       "      <td>0.000000e+00</td>\n",
       "      <td>0.000000</td>\n",
       "      <td>0.000000</td>\n",
       "    </tr>\n",
       "    <tr>\n",
       "      <th>2112</th>\n",
       "      <td>2.984180e+05</td>\n",
       "      <td>0.0</td>\n",
       "      <td>16532.000000</td>\n",
       "      <td>185432.000000</td>\n",
       "      <td>2.527400e+06</td>\n",
       "      <td>5.108956e+06</td>\n",
       "      <td>5.448306e+06</td>\n",
       "      <td>2.988024e+06</td>\n",
       "      <td>7.591540e+05</td>\n",
       "      <td>155052.000000</td>\n",
       "      <td>...</td>\n",
       "      <td>2.418204e+06</td>\n",
       "      <td>1.827344e+06</td>\n",
       "      <td>1.405826e+06</td>\n",
       "      <td>4.801780e+05</td>\n",
       "      <td>1.176638e+06</td>\n",
       "      <td>2.430398e+06</td>\n",
       "      <td>2.377636e+06</td>\n",
       "      <td>5.006194e+06</td>\n",
       "      <td>66434.000000</td>\n",
       "      <td>0.000000</td>\n",
       "    </tr>\n",
       "    <tr>\n",
       "      <th>2691</th>\n",
       "      <td>1.047110e+06</td>\n",
       "      <td>0.0</td>\n",
       "      <td>0.000000</td>\n",
       "      <td>0.000000</td>\n",
       "      <td>1.213944e+06</td>\n",
       "      <td>9.201056e+06</td>\n",
       "      <td>1.337203e+07</td>\n",
       "      <td>4.445804e+06</td>\n",
       "      <td>5.870660e+05</td>\n",
       "      <td>27592.000000</td>\n",
       "      <td>...</td>\n",
       "      <td>6.093502e+06</td>\n",
       "      <td>3.428036e+06</td>\n",
       "      <td>2.329436e+06</td>\n",
       "      <td>1.014358e+06</td>\n",
       "      <td>1.817662e+06</td>\n",
       "      <td>2.116664e+06</td>\n",
       "      <td>5.138200e+06</td>\n",
       "      <td>6.671862e+06</td>\n",
       "      <td>237756.000000</td>\n",
       "      <td>16.000000</td>\n",
       "    </tr>\n",
       "    <tr>\n",
       "      <th>3343</th>\n",
       "      <td>1.814600e+05</td>\n",
       "      <td>0.0</td>\n",
       "      <td>0.000000</td>\n",
       "      <td>0.000000</td>\n",
       "      <td>0.000000e+00</td>\n",
       "      <td>0.000000e+00</td>\n",
       "      <td>0.000000e+00</td>\n",
       "      <td>0.000000e+00</td>\n",
       "      <td>0.000000e+00</td>\n",
       "      <td>0.000000</td>\n",
       "      <td>...</td>\n",
       "      <td>0.000000e+00</td>\n",
       "      <td>0.000000e+00</td>\n",
       "      <td>0.000000e+00</td>\n",
       "      <td>0.000000e+00</td>\n",
       "      <td>0.000000e+00</td>\n",
       "      <td>0.000000e+00</td>\n",
       "      <td>0.000000e+00</td>\n",
       "      <td>0.000000e+00</td>\n",
       "      <td>0.000000</td>\n",
       "      <td>0.000000</td>\n",
       "    </tr>\n",
       "    <tr>\n",
       "      <th>5109</th>\n",
       "      <td>1.337140e+05</td>\n",
       "      <td>0.0</td>\n",
       "      <td>0.000000</td>\n",
       "      <td>0.000000</td>\n",
       "      <td>6.000000e+00</td>\n",
       "      <td>1.978500e+05</td>\n",
       "      <td>5.128174e+06</td>\n",
       "      <td>9.443334e+06</td>\n",
       "      <td>4.040410e+06</td>\n",
       "      <td>256934.000000</td>\n",
       "      <td>...</td>\n",
       "      <td>4.604576e+06</td>\n",
       "      <td>9.568076e+06</td>\n",
       "      <td>2.631806e+06</td>\n",
       "      <td>6.980400e+05</td>\n",
       "      <td>1.142032e+06</td>\n",
       "      <td>4.040880e+05</td>\n",
       "      <td>1.444400e+04</td>\n",
       "      <td>2.566000e+03</td>\n",
       "      <td>1606.000000</td>\n",
       "      <td>0.000000</td>\n",
       "    </tr>\n",
       "    <tr>\n",
       "      <th>...</th>\n",
       "      <td>...</td>\n",
       "      <td>...</td>\n",
       "      <td>...</td>\n",
       "      <td>...</td>\n",
       "      <td>...</td>\n",
       "      <td>...</td>\n",
       "      <td>...</td>\n",
       "      <td>...</td>\n",
       "      <td>...</td>\n",
       "      <td>...</td>\n",
       "      <td>...</td>\n",
       "      <td>...</td>\n",
       "      <td>...</td>\n",
       "      <td>...</td>\n",
       "      <td>...</td>\n",
       "      <td>...</td>\n",
       "      <td>...</td>\n",
       "      <td>...</td>\n",
       "      <td>...</td>\n",
       "      <td>...</td>\n",
       "      <td>...</td>\n",
       "    </tr>\n",
       "    <tr>\n",
       "      <th>57495</th>\n",
       "      <td>5.415300e+05</td>\n",
       "      <td>0.0</td>\n",
       "      <td>9836.000000</td>\n",
       "      <td>476728.000000</td>\n",
       "      <td>5.066604e+06</td>\n",
       "      <td>1.150504e+07</td>\n",
       "      <td>1.189928e+07</td>\n",
       "      <td>4.158110e+06</td>\n",
       "      <td>2.274320e+05</td>\n",
       "      <td>22782.000000</td>\n",
       "      <td>...</td>\n",
       "      <td>5.170866e+06</td>\n",
       "      <td>3.766774e+06</td>\n",
       "      <td>2.786194e+06</td>\n",
       "      <td>1.516780e+06</td>\n",
       "      <td>3.906754e+06</td>\n",
       "      <td>7.229264e+06</td>\n",
       "      <td>8.038736e+06</td>\n",
       "      <td>8.729320e+05</td>\n",
       "      <td>81848.000000</td>\n",
       "      <td>56.000000</td>\n",
       "    </tr>\n",
       "    <tr>\n",
       "      <th>58101</th>\n",
       "      <td>1.318664e+06</td>\n",
       "      <td>0.0</td>\n",
       "      <td>0.000000</td>\n",
       "      <td>79314.000000</td>\n",
       "      <td>2.708806e+06</td>\n",
       "      <td>8.418038e+06</td>\n",
       "      <td>7.568058e+06</td>\n",
       "      <td>2.106910e+06</td>\n",
       "      <td>5.491200e+04</td>\n",
       "      <td>176.000000</td>\n",
       "      <td>...</td>\n",
       "      <td>2.473802e+06</td>\n",
       "      <td>2.848560e+06</td>\n",
       "      <td>1.501432e+06</td>\n",
       "      <td>5.871820e+05</td>\n",
       "      <td>1.277140e+06</td>\n",
       "      <td>3.266630e+06</td>\n",
       "      <td>6.084454e+06</td>\n",
       "      <td>2.819216e+06</td>\n",
       "      <td>77446.000000</td>\n",
       "      <td>352.000000</td>\n",
       "    </tr>\n",
       "    <tr>\n",
       "      <th>58885</th>\n",
       "      <td>3.966900e+05</td>\n",
       "      <td>0.0</td>\n",
       "      <td>0.000000</td>\n",
       "      <td>0.000000</td>\n",
       "      <td>2.780000e+03</td>\n",
       "      <td>5.213620e+05</td>\n",
       "      <td>5.701268e+06</td>\n",
       "      <td>1.399475e+07</td>\n",
       "      <td>4.013454e+06</td>\n",
       "      <td>8740.000000</td>\n",
       "      <td>...</td>\n",
       "      <td>1.902146e+06</td>\n",
       "      <td>3.953116e+06</td>\n",
       "      <td>3.695016e+06</td>\n",
       "      <td>1.897532e+06</td>\n",
       "      <td>4.212994e+06</td>\n",
       "      <td>3.928426e+06</td>\n",
       "      <td>2.852630e+06</td>\n",
       "      <td>1.102338e+06</td>\n",
       "      <td>696712.000000</td>\n",
       "      <td>1446.000000</td>\n",
       "    </tr>\n",
       "    <tr>\n",
       "      <th>59274</th>\n",
       "      <td>1.814600e+05</td>\n",
       "      <td>0.0</td>\n",
       "      <td>0.000000</td>\n",
       "      <td>0.000000</td>\n",
       "      <td>0.000000e+00</td>\n",
       "      <td>0.000000e+00</td>\n",
       "      <td>0.000000e+00</td>\n",
       "      <td>0.000000e+00</td>\n",
       "      <td>0.000000e+00</td>\n",
       "      <td>0.000000</td>\n",
       "      <td>...</td>\n",
       "      <td>0.000000e+00</td>\n",
       "      <td>0.000000e+00</td>\n",
       "      <td>0.000000e+00</td>\n",
       "      <td>0.000000e+00</td>\n",
       "      <td>0.000000e+00</td>\n",
       "      <td>0.000000e+00</td>\n",
       "      <td>0.000000e+00</td>\n",
       "      <td>0.000000e+00</td>\n",
       "      <td>0.000000</td>\n",
       "      <td>0.000000</td>\n",
       "    </tr>\n",
       "    <tr>\n",
       "      <th>mean</th>\n",
       "      <td>6.016680e+05</td>\n",
       "      <td>0.0</td>\n",
       "      <td>764.032787</td>\n",
       "      <td>43199.868852</td>\n",
       "      <td>6.511948e+05</td>\n",
       "      <td>2.588942e+06</td>\n",
       "      <td>3.983674e+06</td>\n",
       "      <td>3.430996e+06</td>\n",
       "      <td>6.621021e+05</td>\n",
       "      <td>17027.672131</td>\n",
       "      <td>...</td>\n",
       "      <td>1.773435e+06</td>\n",
       "      <td>1.940104e+06</td>\n",
       "      <td>1.305907e+06</td>\n",
       "      <td>6.328552e+05</td>\n",
       "      <td>1.588498e+06</td>\n",
       "      <td>1.964608e+06</td>\n",
       "      <td>1.248830e+06</td>\n",
       "      <td>8.454826e+05</td>\n",
       "      <td>78138.721311</td>\n",
       "      <td>165.213115</td>\n",
       "    </tr>\n",
       "  </tbody>\n",
       "</table>\n",
       "<p>62 rows × 110 columns</p>\n",
       "</div>"
      ],
      "text/plain": [
       "             aa_000  ag_000        ag_001         ag_002        ag_003  \\\n",
       "1517   8.163160e+05     0.0      0.000000       0.000000  0.000000e+00   \n",
       "2112   2.984180e+05     0.0  16532.000000  185432.000000  2.527400e+06   \n",
       "2691   1.047110e+06     0.0      0.000000       0.000000  1.213944e+06   \n",
       "3343   1.814600e+05     0.0      0.000000       0.000000  0.000000e+00   \n",
       "5109   1.337140e+05     0.0      0.000000       0.000000  6.000000e+00   \n",
       "...             ...     ...           ...            ...           ...   \n",
       "57495  5.415300e+05     0.0   9836.000000  476728.000000  5.066604e+06   \n",
       "58101  1.318664e+06     0.0      0.000000   79314.000000  2.708806e+06   \n",
       "58885  3.966900e+05     0.0      0.000000       0.000000  2.780000e+03   \n",
       "59274  1.814600e+05     0.0      0.000000       0.000000  0.000000e+00   \n",
       "mean   6.016680e+05     0.0    764.032787   43199.868852  6.511948e+05   \n",
       "\n",
       "             ag_004        ag_005        ag_006        ag_007         ag_008  \\\n",
       "1517   0.000000e+00  0.000000e+00  0.000000e+00  0.000000e+00       0.000000   \n",
       "2112   5.108956e+06  5.448306e+06  2.988024e+06  7.591540e+05  155052.000000   \n",
       "2691   9.201056e+06  1.337203e+07  4.445804e+06  5.870660e+05   27592.000000   \n",
       "3343   0.000000e+00  0.000000e+00  0.000000e+00  0.000000e+00       0.000000   \n",
       "5109   1.978500e+05  5.128174e+06  9.443334e+06  4.040410e+06  256934.000000   \n",
       "...             ...           ...           ...           ...            ...   \n",
       "57495  1.150504e+07  1.189928e+07  4.158110e+06  2.274320e+05   22782.000000   \n",
       "58101  8.418038e+06  7.568058e+06  2.106910e+06  5.491200e+04     176.000000   \n",
       "58885  5.213620e+05  5.701268e+06  1.399475e+07  4.013454e+06    8740.000000   \n",
       "59274  0.000000e+00  0.000000e+00  0.000000e+00  0.000000e+00       0.000000   \n",
       "mean   2.588942e+06  3.983674e+06  3.430996e+06  6.621021e+05   17027.672131   \n",
       "\n",
       "       ...        ee_000        ee_001        ee_002        ee_003  \\\n",
       "1517   ...  0.000000e+00  0.000000e+00  0.000000e+00  0.000000e+00   \n",
       "2112   ...  2.418204e+06  1.827344e+06  1.405826e+06  4.801780e+05   \n",
       "2691   ...  6.093502e+06  3.428036e+06  2.329436e+06  1.014358e+06   \n",
       "3343   ...  0.000000e+00  0.000000e+00  0.000000e+00  0.000000e+00   \n",
       "5109   ...  4.604576e+06  9.568076e+06  2.631806e+06  6.980400e+05   \n",
       "...    ...           ...           ...           ...           ...   \n",
       "57495  ...  5.170866e+06  3.766774e+06  2.786194e+06  1.516780e+06   \n",
       "58101  ...  2.473802e+06  2.848560e+06  1.501432e+06  5.871820e+05   \n",
       "58885  ...  1.902146e+06  3.953116e+06  3.695016e+06  1.897532e+06   \n",
       "59274  ...  0.000000e+00  0.000000e+00  0.000000e+00  0.000000e+00   \n",
       "mean   ...  1.773435e+06  1.940104e+06  1.305907e+06  6.328552e+05   \n",
       "\n",
       "             ee_004        ee_005        ee_006        ee_007         ee_008  \\\n",
       "1517   0.000000e+00  0.000000e+00  0.000000e+00  0.000000e+00       0.000000   \n",
       "2112   1.176638e+06  2.430398e+06  2.377636e+06  5.006194e+06   66434.000000   \n",
       "2691   1.817662e+06  2.116664e+06  5.138200e+06  6.671862e+06  237756.000000   \n",
       "3343   0.000000e+00  0.000000e+00  0.000000e+00  0.000000e+00       0.000000   \n",
       "5109   1.142032e+06  4.040880e+05  1.444400e+04  2.566000e+03    1606.000000   \n",
       "...             ...           ...           ...           ...            ...   \n",
       "57495  3.906754e+06  7.229264e+06  8.038736e+06  8.729320e+05   81848.000000   \n",
       "58101  1.277140e+06  3.266630e+06  6.084454e+06  2.819216e+06   77446.000000   \n",
       "58885  4.212994e+06  3.928426e+06  2.852630e+06  1.102338e+06  696712.000000   \n",
       "59274  0.000000e+00  0.000000e+00  0.000000e+00  0.000000e+00       0.000000   \n",
       "mean   1.588498e+06  1.964608e+06  1.248830e+06  8.454826e+05   78138.721311   \n",
       "\n",
       "            ee_009  \n",
       "1517      0.000000  \n",
       "2112      0.000000  \n",
       "2691     16.000000  \n",
       "3343      0.000000  \n",
       "5109      0.000000  \n",
       "...            ...  \n",
       "57495    56.000000  \n",
       "58101   352.000000  \n",
       "58885  1446.000000  \n",
       "59274     0.000000  \n",
       "mean    165.213115  \n",
       "\n",
       "[62 rows x 110 columns]"
      ]
     },
     "execution_count": 24,
     "metadata": {},
     "output_type": "execute_result"
    }
   ],
   "source": [
    "aps_failures"
   ]
  },
  {
   "cell_type": "code",
   "execution_count": 25,
   "id": "096e2c44",
   "metadata": {},
   "outputs": [],
   "source": [
    "aps_failures=aps_failures.transpose() # to put the sensors as rows and select top 5\n",
    "top_aps_failures=aps_failures['mean'].nlargest(n=5)"
   ]
  },
  {
   "cell_type": "code",
   "execution_count": 26,
   "id": "0fa59918",
   "metadata": {},
   "outputs": [],
   "source": [
    "top_aps_failures=pd.DataFrame(top_aps_failures) # Create a new dataframe with only the top 5 sensors\n",
    "top_aps_failures = top_aps_failures.reset_index()\n",
    "top_aps_failures=top_aps_failures.rename(columns={'index':'Sensor name'})"
   ]
  },
  {
   "cell_type": "code",
   "execution_count": 27,
   "id": "c78eb72c",
   "metadata": {},
   "outputs": [
    {
     "data": {
      "text/html": [
       "<div>\n",
       "<style scoped>\n",
       "    .dataframe tbody tr th:only-of-type {\n",
       "        vertical-align: middle;\n",
       "    }\n",
       "\n",
       "    .dataframe tbody tr th {\n",
       "        vertical-align: top;\n",
       "    }\n",
       "\n",
       "    .dataframe thead th {\n",
       "        text-align: right;\n",
       "    }\n",
       "</style>\n",
       "<table border=\"1\" class=\"dataframe\">\n",
       "  <thead>\n",
       "    <tr style=\"text-align: right;\">\n",
       "      <th></th>\n",
       "      <th>Sensor name</th>\n",
       "      <th>mean</th>\n",
       "    </tr>\n",
       "  </thead>\n",
       "  <tbody>\n",
       "    <tr>\n",
       "      <th>0</th>\n",
       "      <td>bb_000</td>\n",
       "      <td>4.192948e+07</td>\n",
       "    </tr>\n",
       "    <tr>\n",
       "      <th>1</th>\n",
       "      <td>bv_000</td>\n",
       "      <td>4.192948e+07</td>\n",
       "    </tr>\n",
       "    <tr>\n",
       "      <th>2</th>\n",
       "      <td>cq_000</td>\n",
       "      <td>4.192948e+07</td>\n",
       "    </tr>\n",
       "    <tr>\n",
       "      <th>3</th>\n",
       "      <td>bu_000</td>\n",
       "      <td>4.192948e+07</td>\n",
       "    </tr>\n",
       "    <tr>\n",
       "      <th>4</th>\n",
       "      <td>ci_000</td>\n",
       "      <td>3.082174e+07</td>\n",
       "    </tr>\n",
       "  </tbody>\n",
       "</table>\n",
       "</div>"
      ],
      "text/plain": [
       "  Sensor name          mean\n",
       "0      bb_000  4.192948e+07\n",
       "1      bv_000  4.192948e+07\n",
       "2      cq_000  4.192948e+07\n",
       "3      bu_000  4.192948e+07\n",
       "4      ci_000  3.082174e+07"
      ]
     },
     "execution_count": 27,
     "metadata": {},
     "output_type": "execute_result"
    }
   ],
   "source": [
    "top_aps_failures"
   ]
  },
  {
   "cell_type": "code",
   "execution_count": 28,
   "id": "da24f2d0",
   "metadata": {},
   "outputs": [],
   "source": [
    "top_aps_failures_list=top_aps_failures.iloc[:,0].tolist() #get the name of top sensors on a list "
   ]
  },
  {
   "cell_type": "code",
   "execution_count": 29,
   "id": "4d20673f",
   "metadata": {},
   "outputs": [],
   "source": [
    "aps_failures=aps_failures.drop(['mean'],axis=1) # Drop the mean to exclude it from the total count"
   ]
  },
  {
   "cell_type": "code",
   "execution_count": 30,
   "id": "cac4cea8",
   "metadata": {},
   "outputs": [],
   "source": [
    "aps_failures=aps_failures.transpose() #if I dont transpose it it doesnt let me get the sensors on a list \n",
    "top_aps_failures=aps_failures[top_aps_failures_list]"
   ]
  },
  {
   "cell_type": "code",
   "execution_count": 31,
   "id": "08051456",
   "metadata": {
    "scrolled": false
   },
   "outputs": [
    {
     "name": "stderr",
     "output_type": "stream",
     "text": [
      "<ipython-input-31-151c78f1bd7d>:3: FutureWarning: The frame.append method is deprecated and will be removed from pandas in a future version. Use pandas.concat instead.\n",
      "  top_aps_failures = top_aps_failures.append(sum.transpose()) #add a total value row\n"
     ]
    }
   ],
   "source": [
    "sum = top_aps_failures.sum()\n",
    "sum.name = 'Sum'\n",
    "top_aps_failures = top_aps_failures.append(sum.transpose()) #add a total value row"
   ]
  },
  {
   "cell_type": "code",
   "execution_count": 32,
   "id": "a2fb1f21",
   "metadata": {},
   "outputs": [],
   "source": [
    "top_aps_failures=top_aps_failures.transpose()"
   ]
  },
  {
   "cell_type": "code",
   "execution_count": 33,
   "id": "1a9615c6",
   "metadata": {},
   "outputs": [],
   "source": [
    "top_aps_failures=top_aps_failures['Sum']\n",
    "top_aps_failures=pd.DataFrame(top_aps_failures)"
   ]
  },
  {
   "cell_type": "code",
   "execution_count": 34,
   "id": "06265dc5",
   "metadata": {
    "scrolled": true
   },
   "outputs": [
    {
     "data": {
      "text/html": [
       "<div>\n",
       "<style scoped>\n",
       "    .dataframe tbody tr th:only-of-type {\n",
       "        vertical-align: middle;\n",
       "    }\n",
       "\n",
       "    .dataframe tbody tr th {\n",
       "        vertical-align: top;\n",
       "    }\n",
       "\n",
       "    .dataframe thead th {\n",
       "        text-align: right;\n",
       "    }\n",
       "</style>\n",
       "<table border=\"1\" class=\"dataframe\">\n",
       "  <thead>\n",
       "    <tr style=\"text-align: right;\">\n",
       "      <th></th>\n",
       "      <th>Sum</th>\n",
       "    </tr>\n",
       "  </thead>\n",
       "  <tbody>\n",
       "    <tr>\n",
       "      <th>bb_000</th>\n",
       "      <td>2.557698e+09</td>\n",
       "    </tr>\n",
       "    <tr>\n",
       "      <th>bv_000</th>\n",
       "      <td>2.557698e+09</td>\n",
       "    </tr>\n",
       "    <tr>\n",
       "      <th>cq_000</th>\n",
       "      <td>2.557698e+09</td>\n",
       "    </tr>\n",
       "    <tr>\n",
       "      <th>bu_000</th>\n",
       "      <td>2.557698e+09</td>\n",
       "    </tr>\n",
       "    <tr>\n",
       "      <th>ci_000</th>\n",
       "      <td>1.880126e+09</td>\n",
       "    </tr>\n",
       "  </tbody>\n",
       "</table>\n",
       "</div>"
      ],
      "text/plain": [
       "                 Sum\n",
       "bb_000  2.557698e+09\n",
       "bv_000  2.557698e+09\n",
       "cq_000  2.557698e+09\n",
       "bu_000  2.557698e+09\n",
       "ci_000  1.880126e+09"
      ]
     },
     "execution_count": 34,
     "metadata": {},
     "output_type": "execute_result"
    }
   ],
   "source": [
    "top_aps_failures"
   ]
  },
  {
   "cell_type": "code",
   "execution_count": 35,
   "id": "3a5a7cf2",
   "metadata": {},
   "outputs": [
    {
     "data": {
      "text/plain": [
       "Text(0.5, 0, 'Sensor Names')"
      ]
     },
     "execution_count": 35,
     "metadata": {},
     "output_type": "execute_result"
    },
    {
     "data": {
      "image/png": "[encoded data removed]",
      "text/plain": [
       "<Figure size 720x360 with 1 Axes>"
      ]
     },
     "metadata": {},
     "output_type": "display_data"
    }
   ],
   "source": [
    "top_aps_failures.plot(kind='bar', figsize=(10,5))\n",
    "plt.title('Number of errors for the top 5 failed sensors linked to an APS failure ')\n",
    "plt.ylabel('Number of errors (values expressed in Billions)')\n",
    "plt.xlabel('Sensor Names')"
   ]
  },
  {
   "cell_type": "markdown",
   "id": "32e70170",
   "metadata": {},
   "source": [
    "Get the % of the total errors flagged by these 5 sensors."
   ]
  },
  {
   "cell_type": "code",
   "execution_count": 36,
   "id": "4cd2696b",
   "metadata": {},
   "outputs": [
    {
     "name": "stderr",
     "output_type": "stream",
     "text": [
      "<ipython-input-36-35bef56251dc>:3: FutureWarning: The frame.append method is deprecated and will be removed from pandas in a future version. Use pandas.concat instead.\n",
      "  aps_failures = aps_failures.append(sum.transpose()) #add a total value row\n"
     ]
    }
   ],
   "source": [
    "\n",
    "sum = aps_failures.sum()\n",
    "sum.name = 'sum'\n",
    "aps_failures = aps_failures.append(sum.transpose()) #add a total value row\n",
    "\n",
    "aps_failures=aps_failures.transpose()\n",
    "\n",
    "total_errors = aps_failures['sum'].sum()\n",
    "\n",
    "total_errors=str(total_errors)"
   ]
  },
  {
   "cell_type": "code",
   "execution_count": 37,
   "id": "3cc32aa8",
   "metadata": {},
   "outputs": [
    {
     "name": "stdout",
     "output_type": "stream",
     "text": [
      "There are a total of 26709517835.13 errors\n"
     ]
    }
   ],
   "source": [
    "print('There are a total of ' + total_errors + ' errors')"
   ]
  },
  {
   "cell_type": "code",
   "execution_count": 38,
   "id": "1d5b92a6",
   "metadata": {},
   "outputs": [],
   "source": [
    "total_errors=float(total_errors)\n",
    "\n",
    "top_aps_failures\n",
    "top_aps_failures=top_aps_failures.rename(columns={'Sum':'number_of_errors'})\n",
    "top_aps_failures['%_of_total_errors'] = (top_aps_failures['number_of_errors'] / total_errors) * 100"
   ]
  },
  {
   "cell_type": "code",
   "execution_count": 39,
   "id": "b98928ed",
   "metadata": {},
   "outputs": [
    {
     "data": {
      "text/html": [
       "<div>\n",
       "<style scoped>\n",
       "    .dataframe tbody tr th:only-of-type {\n",
       "        vertical-align: middle;\n",
       "    }\n",
       "\n",
       "    .dataframe tbody tr th {\n",
       "        vertical-align: top;\n",
       "    }\n",
       "\n",
       "    .dataframe thead th {\n",
       "        text-align: right;\n",
       "    }\n",
       "</style>\n",
       "<table border=\"1\" class=\"dataframe\">\n",
       "  <thead>\n",
       "    <tr style=\"text-align: right;\">\n",
       "      <th></th>\n",
       "      <th>number_of_errors</th>\n",
       "      <th>%_of_total_errors</th>\n",
       "    </tr>\n",
       "  </thead>\n",
       "  <tbody>\n",
       "    <tr>\n",
       "      <th>bb_000</th>\n",
       "      <td>2.557698e+09</td>\n",
       "      <td>9.575980</td>\n",
       "    </tr>\n",
       "    <tr>\n",
       "      <th>bv_000</th>\n",
       "      <td>2.557698e+09</td>\n",
       "      <td>9.575980</td>\n",
       "    </tr>\n",
       "    <tr>\n",
       "      <th>cq_000</th>\n",
       "      <td>2.557698e+09</td>\n",
       "      <td>9.575980</td>\n",
       "    </tr>\n",
       "    <tr>\n",
       "      <th>bu_000</th>\n",
       "      <td>2.557698e+09</td>\n",
       "      <td>9.575980</td>\n",
       "    </tr>\n",
       "    <tr>\n",
       "      <th>ci_000</th>\n",
       "      <td>1.880126e+09</td>\n",
       "      <td>7.039161</td>\n",
       "    </tr>\n",
       "  </tbody>\n",
       "</table>\n",
       "</div>"
      ],
      "text/plain": [
       "        number_of_errors  %_of_total_errors\n",
       "bb_000      2.557698e+09           9.575980\n",
       "bv_000      2.557698e+09           9.575980\n",
       "cq_000      2.557698e+09           9.575980\n",
       "bu_000      2.557698e+09           9.575980\n",
       "ci_000      1.880126e+09           7.039161"
      ]
     },
     "execution_count": 39,
     "metadata": {},
     "output_type": "execute_result"
    }
   ],
   "source": [
    "top_aps_failures"
   ]
  },
  {
   "cell_type": "code",
   "execution_count": 40,
   "id": "2cfcf99f",
   "metadata": {},
   "outputs": [],
   "source": [
    "top_sensors_errors_per = top_aps_failures['%_of_total_errors'].sum()\n",
    "top_sensors_errors_per=str(round(top_sensors_errors_per,2))\n"
   ]
  },
  {
   "cell_type": "code",
   "execution_count": 41,
   "id": "21a8b0f6",
   "metadata": {},
   "outputs": [
    {
     "name": "stdout",
     "output_type": "stream",
     "text": [
      "45.34% of errors are flagged by the top 5 sensors\n"
     ]
    }
   ],
   "source": [
    "print (top_sensors_errors_per + '% of errors are flagged by the top 5 sensors')"
   ]
  },
  {
   "cell_type": "markdown",
   "id": "f53895f5",
   "metadata": {},
   "source": [
    "##### Conclusions for the APS related failures\n",
    "\n",
    "    - From the 6000 analyzed trucks, only 2.0% of them had an APS related failure\n",
    "    - 60 out of 170 were considered failed sensors because 20% or more than their results were null (35%)\n",
    "    - After cleaning and normalizing the data 62 rows were tooked into account which reduces the sample by a lot but makes             our data more reliable.\n",
    "    - 5 sensors flag 45.34% of the errors for trucks with a known APS failure\n"
   ]
  },
  {
   "cell_type": "markdown",
   "id": "354c6596",
   "metadata": {},
   "source": [
    "### EXPLANATORY DATA ANALYSIS FOR NOT APS RELATED FAILURES"
   ]
  },
  {
   "cell_type": "markdown",
   "id": "41aacbab",
   "metadata": {},
   "source": [
    "I'll apply the same analysis for the not APS related failures"
   ]
  },
  {
   "cell_type": "code",
   "execution_count": 42,
   "id": "7201b80f",
   "metadata": {},
   "outputs": [],
   "source": [
    "not_aps_failures=aps_failure_set.loc[aps_failure_set['class']=='neg'] \n",
    "\n",
    "not_aps_failures=not_aps_failures.drop(['class'],axis=1)"
   ]
  },
  {
   "cell_type": "markdown",
   "id": "feae8b01",
   "metadata": {},
   "source": [
    "##### NULL, DUPLICATED & MISSING VALUES "
   ]
  },
  {
   "cell_type": "code",
   "execution_count": 43,
   "id": "edf0aabe",
   "metadata": {},
   "outputs": [],
   "source": [
    "#not_aps_failures = not_aps_failures[not_aps_failures.duplicated()]"
   ]
  },
  {
   "cell_type": "code",
   "execution_count": 44,
   "id": "e0c1bd22",
   "metadata": {},
   "outputs": [
    {
     "name": "stdout",
     "output_type": "stream",
     "text": [
      "The dataframe has nulls\n"
     ]
    }
   ],
   "source": [
    "not_aps_failures=not_aps_failures.replace(\"na\",np.nan) \n",
    "\n",
    "if not_aps_failures.isnull().sum().any():\n",
    "    print(\"The dataframe has nulls\")\n",
    "else:\n",
    "    print(\"The dataframe has not nulls\")"
   ]
  },
  {
   "cell_type": "code",
   "execution_count": 45,
   "id": "328a77c5",
   "metadata": {},
   "outputs": [
    {
     "data": {
      "text/plain": [
       "(59000, 170)"
      ]
     },
     "execution_count": 45,
     "metadata": {},
     "output_type": "execute_result"
    }
   ],
   "source": [
    "not_aps_failures.shape"
   ]
  },
  {
   "cell_type": "code",
   "execution_count": 46,
   "id": "ce4fd9ab",
   "metadata": {},
   "outputs": [],
   "source": [
    "null_percentages=(not_aps_failures.isnull().sum()/5900*100)\n",
    "High_null_not_aps_failures = pd.DataFrame(null_percentages, columns=['High_Null']) #Data frame with the % of null values by column\n",
    "High_null_not_aps_failures.reset_index(drop=False, inplace=True)\n"
   ]
  },
  {
   "cell_type": "code",
   "execution_count": 47,
   "id": "f64b0b7e",
   "metadata": {},
   "outputs": [
    {
     "data": {
      "text/html": [
       "<div>\n",
       "<style scoped>\n",
       "    .dataframe tbody tr th:only-of-type {\n",
       "        vertical-align: middle;\n",
       "    }\n",
       "\n",
       "    .dataframe tbody tr th {\n",
       "        vertical-align: top;\n",
       "    }\n",
       "\n",
       "    .dataframe thead th {\n",
       "        text-align: right;\n",
       "    }\n",
       "</style>\n",
       "<table border=\"1\" class=\"dataframe\">\n",
       "  <thead>\n",
       "    <tr style=\"text-align: right;\">\n",
       "      <th></th>\n",
       "      <th>index</th>\n",
       "      <th>High_Null</th>\n",
       "    </tr>\n",
       "  </thead>\n",
       "  <tbody>\n",
       "    <tr>\n",
       "      <th>1</th>\n",
       "      <td>ab_000</td>\n",
       "      <td>772.169492</td>\n",
       "    </tr>\n",
       "    <tr>\n",
       "      <th>2</th>\n",
       "      <td>ac_000</td>\n",
       "      <td>48.694915</td>\n",
       "    </tr>\n",
       "    <tr>\n",
       "      <th>3</th>\n",
       "      <td>ad_000</td>\n",
       "      <td>240.949153</td>\n",
       "    </tr>\n",
       "    <tr>\n",
       "      <th>4</th>\n",
       "      <td>ae_000</td>\n",
       "      <td>36.593220</td>\n",
       "    </tr>\n",
       "    <tr>\n",
       "      <th>5</th>\n",
       "      <td>af_000</td>\n",
       "      <td>36.593220</td>\n",
       "    </tr>\n",
       "  </tbody>\n",
       "</table>\n",
       "</div>"
      ],
      "text/plain": [
       "    index   High_Null\n",
       "1  ab_000  772.169492\n",
       "2  ac_000   48.694915\n",
       "3  ad_000  240.949153\n",
       "4  ae_000   36.593220\n",
       "5  af_000   36.593220"
      ]
     },
     "execution_count": 47,
     "metadata": {},
     "output_type": "execute_result"
    }
   ],
   "source": [
    "High_null_not_aps_failures=High_null_not_aps_failures[High_null_not_aps_failures.iloc[:,1]>20] #Select the sensors with greater than 20% null values\n",
    "\n",
    "High_null_not_aps_failures.head(5)"
   ]
  },
  {
   "cell_type": "code",
   "execution_count": 48,
   "id": "f77d8055",
   "metadata": {},
   "outputs": [
    {
     "data": {
      "text/plain": [
       "(60, 2)"
      ]
     },
     "execution_count": 48,
     "metadata": {},
     "output_type": "execute_result"
    }
   ],
   "source": [
    "High_null_aps_failures.shape"
   ]
  },
  {
   "cell_type": "markdown",
   "id": "9444a09f",
   "metadata": {},
   "source": [
    "As on the other case, we have 60 sensors that trigger a high percentage of Nulls. It will be interesting to see if they are the same, but this will be analyze latter, when I merge both variables. For now, I'll treat them as faulty sensors "
   ]
  },
  {
   "cell_type": "code",
   "execution_count": 49,
   "id": "43b88ddf",
   "metadata": {},
   "outputs": [
    {
     "data": {
      "text/plain": [
       "(59000, 110)"
      ]
     },
     "execution_count": 49,
     "metadata": {},
     "output_type": "execute_result"
    }
   ],
   "source": [
    "faulty_sensors_not_aps=High_null_aps_failures.iloc[:,0].tolist() #get the name of the faulty sensors on a list \n",
    "\n",
    "not_aps_failures=not_aps_failures.drop(faulty_sensors_not_aps,axis=1)\n",
    "not_aps_failures.shape"
   ]
  },
  {
   "cell_type": "markdown",
   "id": "b8b159a7",
   "metadata": {},
   "source": [
    "##### Drop the nulls"
   ]
  },
  {
   "cell_type": "code",
   "execution_count": 50,
   "id": "4c16b45f",
   "metadata": {},
   "outputs": [
    {
     "data": {
      "text/plain": [
       "(6905, 110)"
      ]
     },
     "execution_count": 50,
     "metadata": {},
     "output_type": "execute_result"
    }
   ],
   "source": [
    "not_aps_failures = not_aps_failures.dropna()\n",
    "not_aps_failures.shape"
   ]
  },
  {
   "cell_type": "markdown",
   "id": "1fb4fdb1",
   "metadata": {},
   "source": [
    "##### OUTLIERS"
   ]
  },
  {
   "cell_type": "code",
   "execution_count": 51,
   "id": "61943300",
   "metadata": {},
   "outputs": [
    {
     "data": {
      "text/plain": [
       "<AxesSubplot:xlabel='aa_000'>"
      ]
     },
     "execution_count": 51,
     "metadata": {},
     "output_type": "execute_result"
    },
    {
     "data": {
      "image/png": "[encoded data removed]",
      "text/plain": [
       "<Figure size 432x288 with 1 Axes>"
      ]
     },
     "metadata": {},
     "output_type": "display_data"
    }
   ],
   "source": [
    "not_aps_failures=not_aps_failures.astype(float) \n",
    "sns.boxplot(x=not_aps_failures['aa_000']) "
   ]
  },
  {
   "cell_type": "code",
   "execution_count": 52,
   "id": "5cab3b22",
   "metadata": {},
   "outputs": [
    {
     "name": "stdout",
     "output_type": "stream",
     "text": [
      "aa_000     216998.0\n",
      "ag_000          0.0\n",
      "ag_001          0.0\n",
      "ag_002          0.0\n",
      "ag_003      14596.0\n",
      "            ...    \n",
      "ee_005    1121454.0\n",
      "ee_006    1095204.0\n",
      "ee_007     786352.0\n",
      "ee_008     253258.0\n",
      "ee_009       3244.0\n",
      "Length: 110, dtype: float64\n"
     ]
    }
   ],
   "source": [
    "Q1 = not_aps_failures.quantile(0.25)\n",
    "Q3 = not_aps_failures.quantile(0.75)\n",
    "IQR = Q3 - Q1\n",
    "print(IQR) "
   ]
  },
  {
   "cell_type": "code",
   "execution_count": 53,
   "id": "48819d0a",
   "metadata": {},
   "outputs": [
    {
     "data": {
      "text/plain": [
       "(1484, 110)"
      ]
     },
     "execution_count": 53,
     "metadata": {},
     "output_type": "execute_result"
    }
   ],
   "source": [
    "not_aps_failures = not_aps_failures[~((not_aps_failures < (Q1 - 1.5 * IQR)) |(not_aps_failures > (Q3 + 1.5 * IQR))).any(axis=1)]\n",
    "not_aps_failures.shape "
   ]
  },
  {
   "cell_type": "code",
   "execution_count": 54,
   "id": "bbabad1a",
   "metadata": {},
   "outputs": [
    {
     "data": {
      "text/plain": [
       "<AxesSubplot:xlabel='aa_000'>"
      ]
     },
     "execution_count": 54,
     "metadata": {},
     "output_type": "execute_result"
    },
    {
     "data": {
      "image/png": "[encoded data removed]",
      "text/plain": [
       "<Figure size 432x288 with 1 Axes>"
      ]
     },
     "metadata": {},
     "output_type": "display_data"
    }
   ],
   "source": [
    "sns.boxplot(x=not_aps_failures['aa_000']) "
   ]
  },
  {
   "cell_type": "markdown",
   "id": "49c4fea9",
   "metadata": {},
   "source": [
    "As, we can see on this graph, not all the outliers have been removed; I could re-run the code again until I remove all of them, but for similarity with the analysis of the other variable I will mantain those. The code above removes everything below the first Quartile (Q1) or above the third Quartile (Q3) so any residual outliers wont have an impact on the conclusions"
   ]
  },
  {
   "cell_type": "markdown",
   "id": "5e523b89",
   "metadata": {},
   "source": [
    "We have explained the context of the data received and cleaned it from any nulls, missing data, faulty sensors and outliers. This exercise has decreased our sample significantly from 5900 rows to 1484 but on the other hand, I have now high quality data to rely on and use for predictions."
   ]
  },
  {
   "cell_type": "markdown",
   "id": "d8ca77cb",
   "metadata": {},
   "source": [
    "##### GET THE MEAN AND SELECT THE MOST RELEVANT SENSORS"
   ]
  },
  {
   "cell_type": "code",
   "execution_count": 55,
   "id": "d21c1afc",
   "metadata": {},
   "outputs": [],
   "source": [
    "not_aps_failures.loc['mean'] = not_aps_failures.mean() # Add a row with the mean of errors for each sensor"
   ]
  },
  {
   "cell_type": "code",
   "execution_count": 56,
   "id": "83cbf1cb",
   "metadata": {},
   "outputs": [],
   "source": [
    "not_aps_failures.loc['mean'] = not_aps_failures.mean() # Add a row with the mean of errors for each sensor\n",
    "not_aps_failures=not_aps_failures.transpose()\n",
    "top_not_aps_failures=not_aps_failures['mean'].nlargest(n=5)"
   ]
  },
  {
   "cell_type": "code",
   "execution_count": 57,
   "id": "0630015a",
   "metadata": {},
   "outputs": [],
   "source": [
    "top_not_aps_failures=pd.DataFrame(top_not_aps_failures) # Create a new dataframe with only the top 5 sensors\n",
    "top_not_aps_failures = top_not_aps_failures.reset_index()\n",
    "top_not_aps_failures=top_not_aps_failures.rename(columns={'index':'Sensor name'})"
   ]
  },
  {
   "cell_type": "code",
   "execution_count": 58,
   "id": "47ac92d8",
   "metadata": {},
   "outputs": [
    {
     "data": {
      "text/html": [
       "<div>\n",
       "<style scoped>\n",
       "    .dataframe tbody tr th:only-of-type {\n",
       "        vertical-align: middle;\n",
       "    }\n",
       "\n",
       "    .dataframe tbody tr th {\n",
       "        vertical-align: top;\n",
       "    }\n",
       "\n",
       "    .dataframe thead th {\n",
       "        text-align: right;\n",
       "    }\n",
       "</style>\n",
       "<table border=\"1\" class=\"dataframe\">\n",
       "  <thead>\n",
       "    <tr style=\"text-align: right;\">\n",
       "      <th></th>\n",
       "      <th>Sensor name</th>\n",
       "      <th>mean</th>\n",
       "    </tr>\n",
       "  </thead>\n",
       "  <tbody>\n",
       "    <tr>\n",
       "      <th>0</th>\n",
       "      <td>bb_000</td>\n",
       "      <td>1.296880e+06</td>\n",
       "    </tr>\n",
       "    <tr>\n",
       "      <th>1</th>\n",
       "      <td>bu_000</td>\n",
       "      <td>1.296880e+06</td>\n",
       "    </tr>\n",
       "    <tr>\n",
       "      <th>2</th>\n",
       "      <td>bv_000</td>\n",
       "      <td>1.296880e+06</td>\n",
       "    </tr>\n",
       "    <tr>\n",
       "      <th>3</th>\n",
       "      <td>cq_000</td>\n",
       "      <td>1.296880e+06</td>\n",
       "    </tr>\n",
       "    <tr>\n",
       "      <th>4</th>\n",
       "      <td>br_000</td>\n",
       "      <td>1.284859e+06</td>\n",
       "    </tr>\n",
       "  </tbody>\n",
       "</table>\n",
       "</div>"
      ],
      "text/plain": [
       "  Sensor name          mean\n",
       "0      bb_000  1.296880e+06\n",
       "1      bu_000  1.296880e+06\n",
       "2      bv_000  1.296880e+06\n",
       "3      cq_000  1.296880e+06\n",
       "4      br_000  1.284859e+06"
      ]
     },
     "execution_count": 58,
     "metadata": {},
     "output_type": "execute_result"
    }
   ],
   "source": [
    "top_not_aps_failures"
   ]
  },
  {
   "cell_type": "code",
   "execution_count": 59,
   "id": "19ceb746",
   "metadata": {},
   "outputs": [],
   "source": [
    "top_not_aps_failures=top_not_aps_failures.iloc[:,0].tolist() #get the name of top sensors on a list \n",
    "not_aps_failures=not_aps_failures.drop(['mean'],axis=1) # Drop the mean to exclude it from the total count\n",
    "not_aps_failures=not_aps_failures.transpose()\n",
    "top_not_aps_failures=not_aps_failures[top_not_aps_failures]"
   ]
  },
  {
   "cell_type": "code",
   "execution_count": 60,
   "id": "9ab95c7c",
   "metadata": {},
   "outputs": [
    {
     "name": "stderr",
     "output_type": "stream",
     "text": [
      "<ipython-input-60-dc7b88302d14>:3: FutureWarning: The frame.append method is deprecated and will be removed from pandas in a future version. Use pandas.concat instead.\n",
      "  top_not_aps_failures = top_not_aps_failures.append(sum.transpose()) #add a total value row\n"
     ]
    }
   ],
   "source": [
    "sum = top_not_aps_failures.sum()\n",
    "sum.name = 'Sum'\n",
    "top_not_aps_failures = top_not_aps_failures.append(sum.transpose()) #add a total value row\n",
    "top_not_aps_failures=top_not_aps_failures.transpose()"
   ]
  },
  {
   "cell_type": "code",
   "execution_count": 61,
   "id": "15c7ab93",
   "metadata": {},
   "outputs": [],
   "source": [
    "top_not_aps_failures=top_not_aps_failures['Sum']\n",
    "top_not_aps_failures=pd.DataFrame(top_not_aps_failures)"
   ]
  },
  {
   "cell_type": "code",
   "execution_count": 62,
   "id": "e82a9f4b",
   "metadata": {},
   "outputs": [
    {
     "data": {
      "text/html": [
       "<div>\n",
       "<style scoped>\n",
       "    .dataframe tbody tr th:only-of-type {\n",
       "        vertical-align: middle;\n",
       "    }\n",
       "\n",
       "    .dataframe tbody tr th {\n",
       "        vertical-align: top;\n",
       "    }\n",
       "\n",
       "    .dataframe thead th {\n",
       "        text-align: right;\n",
       "    }\n",
       "</style>\n",
       "<table border=\"1\" class=\"dataframe\">\n",
       "  <thead>\n",
       "    <tr style=\"text-align: right;\">\n",
       "      <th></th>\n",
       "      <th>Sum</th>\n",
       "    </tr>\n",
       "  </thead>\n",
       "  <tbody>\n",
       "    <tr>\n",
       "      <th>bb_000</th>\n",
       "      <td>1.924570e+09</td>\n",
       "    </tr>\n",
       "    <tr>\n",
       "      <th>bu_000</th>\n",
       "      <td>1.924570e+09</td>\n",
       "    </tr>\n",
       "    <tr>\n",
       "      <th>bv_000</th>\n",
       "      <td>1.924570e+09</td>\n",
       "    </tr>\n",
       "    <tr>\n",
       "      <th>cq_000</th>\n",
       "      <td>1.924570e+09</td>\n",
       "    </tr>\n",
       "    <tr>\n",
       "      <th>br_000</th>\n",
       "      <td>1.906731e+09</td>\n",
       "    </tr>\n",
       "  </tbody>\n",
       "</table>\n",
       "</div>"
      ],
      "text/plain": [
       "                 Sum\n",
       "bb_000  1.924570e+09\n",
       "bu_000  1.924570e+09\n",
       "bv_000  1.924570e+09\n",
       "cq_000  1.924570e+09\n",
       "br_000  1.906731e+09"
      ]
     },
     "execution_count": 62,
     "metadata": {},
     "output_type": "execute_result"
    }
   ],
   "source": [
    "top_not_aps_failures"
   ]
  },
  {
   "cell_type": "code",
   "execution_count": 63,
   "id": "be0180f7",
   "metadata": {},
   "outputs": [
    {
     "data": {
      "text/plain": [
       "Text(0.5, 0, 'Sensor Names')"
      ]
     },
     "execution_count": 63,
     "metadata": {},
     "output_type": "execute_result"
    },
    {
     "data": {
      "image/png": "[encoded data removed]",
      "text/plain": [
       "<Figure size 720x360 with 1 Axes>"
      ]
     },
     "metadata": {},
     "output_type": "display_data"
    }
   ],
   "source": [
    "top_not_aps_failures.plot(kind='bar', figsize=(10,5))\n",
    "plt.title('Number of errors for the top 5 failed sensors NOT linked to an APS failure ')\n",
    "plt.ylabel('Number of errors (values expressed in Billions)')\n",
    "plt.xlabel('Sensor Names')"
   ]
  },
  {
   "cell_type": "markdown",
   "id": "92f912d0",
   "metadata": {},
   "source": [
    "Same as on the previous variable, I selected the top 5 sensors with more errors. My objective is to determine which sensors have  greater sensibility to flag an error when an APS failure happens and which of them when not. Know I'll get the % of total errors flagged by these 5 sensors. "
   ]
  },
  {
   "cell_type": "code",
   "execution_count": 64,
   "id": "c8a4b2c0",
   "metadata": {},
   "outputs": [
    {
     "name": "stderr",
     "output_type": "stream",
     "text": [
      "<ipython-input-64-391cd9d70ad7>:3: FutureWarning: The frame.append method is deprecated and will be removed from pandas in a future version. Use pandas.concat instead.\n",
      "  not_aps_failures = not_aps_failures.append(sum.transpose()) #add a total value row\n"
     ]
    }
   ],
   "source": [
    "sum = top_not_aps_failures.sum()\n",
    "sum.name = 'sum'\n",
    "not_aps_failures = not_aps_failures.append(sum.transpose()) #add a total value row\n",
    "\n",
    "not_aps_failures=not_aps_failures.transpose()\n",
    "\n",
    "total_errors = not_aps_failures['sum'].sum()\n",
    "\n",
    "total_errors=str(total_errors)"
   ]
  },
  {
   "cell_type": "code",
   "execution_count": 65,
   "id": "f3a3d664",
   "metadata": {},
   "outputs": [
    {
     "name": "stdout",
     "output_type": "stream",
     "text": [
      "There are a total of 9605012236.0 errors\n"
     ]
    }
   ],
   "source": [
    "print('There are a total of ' + total_errors + ' errors')"
   ]
  },
  {
   "cell_type": "code",
   "execution_count": 66,
   "id": "dfd20bcd",
   "metadata": {},
   "outputs": [],
   "source": [
    "total_errors=float(total_errors)\n",
    "\n",
    "top_not_aps_failures\n",
    "top_not_aps_failures=top_not_aps_failures.rename(columns={'Sum':'number_of_errors'})\n",
    "top_not_aps_failures['%_of_total_errors'] = (top_not_aps_failures['number_of_errors'] / total_errors) * 100"
   ]
  },
  {
   "cell_type": "code",
   "execution_count": 67,
   "id": "16a91e70",
   "metadata": {},
   "outputs": [
    {
     "data": {
      "text/html": [
       "<div>\n",
       "<style scoped>\n",
       "    .dataframe tbody tr th:only-of-type {\n",
       "        vertical-align: middle;\n",
       "    }\n",
       "\n",
       "    .dataframe tbody tr th {\n",
       "        vertical-align: top;\n",
       "    }\n",
       "\n",
       "    .dataframe thead th {\n",
       "        text-align: right;\n",
       "    }\n",
       "</style>\n",
       "<table border=\"1\" class=\"dataframe\">\n",
       "  <thead>\n",
       "    <tr style=\"text-align: right;\">\n",
       "      <th></th>\n",
       "      <th>number_of_errors</th>\n",
       "      <th>%_of_total_errors</th>\n",
       "    </tr>\n",
       "  </thead>\n",
       "  <tbody>\n",
       "    <tr>\n",
       "      <th>bb_000</th>\n",
       "      <td>1.924570e+09</td>\n",
       "      <td>20.037147</td>\n",
       "    </tr>\n",
       "    <tr>\n",
       "      <th>bu_000</th>\n",
       "      <td>1.924570e+09</td>\n",
       "      <td>20.037146</td>\n",
       "    </tr>\n",
       "    <tr>\n",
       "      <th>bv_000</th>\n",
       "      <td>1.924570e+09</td>\n",
       "      <td>20.037146</td>\n",
       "    </tr>\n",
       "    <tr>\n",
       "      <th>cq_000</th>\n",
       "      <td>1.924570e+09</td>\n",
       "      <td>20.037146</td>\n",
       "    </tr>\n",
       "    <tr>\n",
       "      <th>br_000</th>\n",
       "      <td>1.906731e+09</td>\n",
       "      <td>19.851414</td>\n",
       "    </tr>\n",
       "  </tbody>\n",
       "</table>\n",
       "</div>"
      ],
      "text/plain": [
       "        number_of_errors  %_of_total_errors\n",
       "bb_000      1.924570e+09          20.037147\n",
       "bu_000      1.924570e+09          20.037146\n",
       "bv_000      1.924570e+09          20.037146\n",
       "cq_000      1.924570e+09          20.037146\n",
       "br_000      1.906731e+09          19.851414"
      ]
     },
     "execution_count": 67,
     "metadata": {},
     "output_type": "execute_result"
    }
   ],
   "source": [
    "top_not_aps_failures"
   ]
  },
  {
   "cell_type": "code",
   "execution_count": 68,
   "id": "899f19c3",
   "metadata": {},
   "outputs": [
    {
     "name": "stdout",
     "output_type": "stream",
     "text": [
      "100.0% of errors are flagged by the top 5 sensors\n"
     ]
    }
   ],
   "source": [
    "top_not_sensors_errors_per = top_not_aps_failures['%_of_total_errors'].sum()\n",
    "top_not_sensors_errors_per=str(round(top_not_sensors_errors_per,3))\n",
    "print (top_not_sensors_errors_per + '% of errors are flagged by the top 5 sensors')"
   ]
  },
  {
   "cell_type": "markdown",
   "id": "d21e6c39",
   "metadata": {},
   "source": [
    "##### Conclusions for the NOT APS related failures\n",
    "\n",
    "    - From the 6000 analyzed trucks, only 98% of them had an APS related failure\n",
    "    - 60 out of 170 were considered failed sensors because 20% or more than their results were null (35%)\n",
    "    - After cleaning and normalizing the data 1484 rows were tooked into account which reduces the sample by a lot but makes             our data more reliable.\n",
    "    - 5 sensors flag 100% of the errors for trucks with a known NOT APS related failure"
   ]
  },
  {
   "cell_type": "code",
   "execution_count": null,
   "id": "72f046b7",
   "metadata": {},
   "outputs": [],
   "source": []
  },
  {
   "cell_type": "code",
   "execution_count": null,
   "id": "28e0bb03",
   "metadata": {},
   "outputs": [],
   "source": []
  },
  {
   "cell_type": "markdown",
   "id": "0f17e6e7",
   "metadata": {},
   "source": [
    "https://sparkbyexamples.com/pandas/pandas-sum-dataframe-columns/#:~:text=To%20calculate%20the%20sum%20of%20the%20given%20column%20or%20a,to%20get%20the%20total%20sum.\n",
    "\n",
    "https://stackoverflow.com/questions/38733477/whats-the-best-way-to-sum-all-values-in-a-pandas-dataframe\n",
    "\n",
    "https://stackoverflow.com/questions/42865805/add-a-row-with-means-of-columns-to-pandas-dataframe\n",
    "\n",
    "https://pandas.pydata.org/docs/user_guide/index.html"
   ]
  }
 ],
 "metadata": {
  "kernelspec": {
   "display_name": "Python 3",
   "language": "python",
   "name": "python3"
  },
  "language_info": {
   "codemirror_mode": {
    "name": "ipython",
    "version": 3
   },
   "file_extension": ".py",
   "mimetype": "text/x-python",
   "name": "python",
   "nbconvert_exporter": "python",
   "pygments_lexer": "ipython3",
   "version": "3.8.8"
  }
 },
 "nbformat": 4,
 "nbformat_minor": 5
}
