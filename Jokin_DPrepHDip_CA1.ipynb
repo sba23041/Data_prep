{
 "cells": [
  {
   "cell_type": "code",
   "execution_count": 1,
   "id": "7bfc01d9",
   "metadata": {},
   "outputs": [
    {
     "name": "stderr",
     "output_type": "stream",
     "text": [
      "C:\\Users\\jokin.ormazabal\\Anaconda3\\lib\\site-packages\\scipy\\__init__.py:138: UserWarning: A NumPy version >=1.16.5 and <1.23.0 is required for this version of SciPy (detected version 1.24.4)\n",
      "  warnings.warn(f\"A NumPy version >={np_minversion} and <{np_maxversion} is required for this version of \"\n"
     ]
    }
   ],
   "source": [
    "# Libraries to be used \n",
    "import pandas as pd\n",
    "import numpy as np\n",
    "import seaborn as sns #visualisation\n",
    "import matplotlib.pyplot as plt #visualisation\n",
    "%matplotlib inline\n",
    "sns.set(color_codes=True)"
   ]
  },
  {
   "cell_type": "code",
   "execution_count": 2,
   "id": "bd2caeb1",
   "metadata": {},
   "outputs": [
    {
     "name": "stdout",
     "output_type": "stream",
     "text": [
      "APS Failure Set successfully imported into a dataframe\n"
     ]
    }
   ],
   "source": [
    "# Import the file into a dataframe \n",
    "\n",
    "try:\n",
    "    aps_failure_set=pd.read_csv(r\"\\\\sedna\\jokin.ormazabal$\\$Profile\\Desktop\\Master\\Data Prep\\aps_failure_set.csv\")\n",
    "    print(\"APS Failure Set successfully imported into a dataframe\")\n",
    "except:\n",
    "    print(\"Something went wrong importing the APS Failure Set\")\n",
    "\n",
    "#As comma is the defaulted delimiter, we dont need to specify it\n",
    "\n",
    "#try to do it trough a url\n",
    "\n"
   ]
  },
  {
   "cell_type": "code",
   "execution_count": 3,
   "id": "0e6e7728",
   "metadata": {
    "scrolled": true
   },
   "outputs": [],
   "source": [
    "#Based on the explanation received, we know the data divides between the errors relating APS and not, \n",
    "#so we divide the main df into 2 different ones."
   ]
  },
  {
   "cell_type": "code",
   "execution_count": 4,
   "id": "95e1c59d",
   "metadata": {},
   "outputs": [],
   "source": [
    "aps_failures=aps_failure_set.loc[aps_failure_set['class']=='pos']\n",
    "not_aps_failures=aps_failure_set.loc[aps_failure_set['class']=='neg']"
   ]
  },
  {
   "cell_type": "code",
   "execution_count": 5,
   "id": "a66c5b6f",
   "metadata": {},
   "outputs": [],
   "source": [
    "# EXPLANATORY DATA ANALYSIS FOR APS RELATED FAILURES"
   ]
  },
  {
   "cell_type": "code",
   "execution_count": 6,
   "id": "0b82d62f",
   "metadata": {},
   "outputs": [
    {
     "name": "stdout",
     "output_type": "stream",
     "text": [
      "The APS failures dataset has NO na values\n"
     ]
    }
   ],
   "source": [
    " # Check for null and missing values\n",
    "\n",
    "na_values_aps_failures = aps_failures.isna().sum()\n",
    "na_aps = na_values_aps_failures.to_numpy()\n",
    "\n",
    "if np.sum(na_aps) == 0:\n",
    "    print('The APS failures dataset has NO na values')\n",
    "else:\n",
    "    print('The APS failures dataset has na values')\n",
    "\n"
   ]
  },
  {
   "cell_type": "code",
   "execution_count": 7,
   "id": "f25ccc87",
   "metadata": {},
   "outputs": [],
   "source": [
    "# We know by looking at the data that it actually has na values but the function is not catching them. \n",
    "# This happens because the na is a string and for python the value is actually not null. \n",
    "# It is important to always manually review the data and check that the output from the code make sense."
   ]
  },
  {
   "cell_type": "code",
   "execution_count": 8,
   "id": "27c635a8",
   "metadata": {},
   "outputs": [
    {
     "name": "stdout",
     "output_type": "stream",
     "text": [
      "The APS failures dataset has values equal to na\n"
     ]
    }
   ],
   "source": [
    "# We will now look for values equal to 'na'\n",
    "\n",
    "na_values_aps_failures=aps_failures.isin(['na']) #creates a df with True for values=='na' & false for values !='na'\n",
    "\n",
    "if (na_values_aps_failures.any().any())==True: \n",
    "    print('The APS failures dataset has values equal to na')\n",
    "else:\n",
    "     print('The APS failures dataset has NO values equal to na')"
   ]
  },
  {
   "cell_type": "code",
   "execution_count": 9,
   "id": "85e4d976",
   "metadata": {},
   "outputs": [],
   "source": [
    "# As we suspected, we actually have null values. \n",
    "# These values will need to be excluded from any statistical analysis and python has ways to do so. \n",
    "#The best method will be to convert those na values into propper NaN's so that the code recognises them latter."
   ]
  },
  {
   "cell_type": "code",
   "execution_count": 10,
   "id": "88e70769",
   "metadata": {},
   "outputs": [
    {
     "name": "stdout",
     "output_type": "stream",
     "text": [
      "The APS failures dataset has na values\n"
     ]
    }
   ],
   "source": [
    "aps_failures=aps_failures.replace(\"na\",np.nan) \n",
    "aps_failures=aps_failures.replace(\"\",np.nan) # In case there are any blank values, we convert them as NaN as well\n",
    "\n",
    "na_aps = na_values_aps_failures.to_numpy()\n",
    "\n",
    "if np.sum(na_aps) == 0:\n",
    "    print('The APS failures dataset has NO na values')\n",
    "else:\n",
    "    print('The APS failures dataset has na values')\n",
    "\n"
   ]
  },
  {
   "cell_type": "code",
   "execution_count": 11,
   "id": "d8dfc602",
   "metadata": {},
   "outputs": [],
   "source": [
    "# Now that we identified the existance of NaN values we will contextualize them and decide if we can drop them. "
   ]
  },
  {
   "cell_type": "code",
   "execution_count": 12,
   "id": "d03bc4ea",
   "metadata": {},
   "outputs": [
    {
     "data": {
      "text/plain": [
       "(1000, 171)"
      ]
     },
     "execution_count": 12,
     "metadata": {},
     "output_type": "execute_result"
    }
   ],
   "source": [
    "aps_failures.shape "
   ]
  },
  {
   "cell_type": "code",
   "execution_count": 13,
   "id": "6738cc90",
   "metadata": {},
   "outputs": [],
   "source": [
    "# We know that we have 1000 rows and 171 columns. So now It will interesting to see which columns have a great % of nulls "
   ]
  },
  {
   "cell_type": "code",
   "execution_count": 14,
   "id": "8d13e099",
   "metadata": {},
   "outputs": [
    {
     "name": "stdout",
     "output_type": "stream",
     "text": [
      "class      0.0\n",
      "aa_000     0.0\n",
      "ab_000    77.1\n",
      "ac_000    46.2\n",
      "ad_000    64.5\n",
      "          ... \n",
      "ee_007     0.5\n",
      "ee_008     0.5\n",
      "ee_009     0.5\n",
      "ef_000    37.7\n",
      "eg_000    37.7\n",
      "Length: 171, dtype: float64\n"
     ]
    }
   ],
   "source": [
    "print((aps_failures.isnull().sum()/1000*100)) # Get the % of nulls by column"
   ]
  },
  {
   "cell_type": "code",
   "execution_count": 18,
   "id": "7d27355c",
   "metadata": {},
   "outputs": [],
   "source": [
    "High_null_aps_failures=(aps_failures.isnull().sum()/1000*100)>30 # Identify the columns with > than 30% of null values\n",
    "\n",
    "#High_null_aps_failures = High_null_aps_failures.rename(columns={'False': 'Test'})\n",
    "#High_null_aps_failures=High_null_aps_failures.rename(columns=lambda x: 'Test' if x == 'False' else x)\n",
    "\n",
    "#High_null_aps_failures=High_null_aps_failures.loc[High_null_aps_failures['% of Nulls']=='True'] #Data frame with only columns with > 30% of nulls"
   ]
  },
  {
   "cell_type": "code",
   "execution_count": null,
   "id": "5c9cd0c1",
   "metadata": {},
   "outputs": [],
   "source": [
    "print(High_null_aps_failures)"
   ]
  },
  {
   "cell_type": "code",
   "execution_count": null,
   "id": "0a6a11d4",
   "metadata": {},
   "outputs": [],
   "source": []
  }
 ],
 "metadata": {
  "kernelspec": {
   "display_name": "Python 3",
   "language": "python",
   "name": "python3"
  },
  "language_info": {
   "codemirror_mode": {
    "name": "ipython",
    "version": 3
   },
   "file_extension": ".py",
   "mimetype": "text/x-python",
   "name": "python",
   "nbconvert_exporter": "python",
   "pygments_lexer": "ipython3",
   "version": "3.8.8"
  }
 },
 "nbformat": 4,
 "nbformat_minor": 5
}
