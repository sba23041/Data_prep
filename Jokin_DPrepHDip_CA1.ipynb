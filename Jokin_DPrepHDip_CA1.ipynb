{
 "cells": [
  {
   "cell_type": "code",
   "execution_count": 1,
   "id": "7bfc01d9",
   "metadata": {},
   "outputs": [
    {
     "name": "stderr",
     "output_type": "stream",
     "text": [
      "C:\\Users\\jokin.ormazabal\\Anaconda3\\lib\\site-packages\\scipy\\__init__.py:138: UserWarning: A NumPy version >=1.16.5 and <1.23.0 is required for this version of SciPy (detected version 1.24.4)\n",
      "  warnings.warn(f\"A NumPy version >={np_minversion} and <{np_maxversion} is required for this version of \"\n"
     ]
    }
   ],
   "source": [
    "# Libraries to be used \n",
    "import pandas as pd\n",
    "import numpy as np\n",
    "import seaborn as sns #visualisation\n",
    "import matplotlib.pyplot as plt #visualisation\n",
    "%matplotlib inline\n",
    "sns.set(color_codes=True)"
   ]
  },
  {
   "cell_type": "code",
   "execution_count": 2,
   "id": "bd2caeb1",
   "metadata": {},
   "outputs": [
    {
     "name": "stdout",
     "output_type": "stream",
     "text": [
      "APS Failure Set successfully imported into a dataframe\n"
     ]
    }
   ],
   "source": [
    "# Import the file into a dataframe \n",
    "\n",
    "try:\n",
    "    aps_failure_set=pd.read_csv(r\"\\\\sedna\\jokin.ormazabal$\\$Profile\\Desktop\\Master\\Data Prep\\aps_failure_set.csv\")\n",
    "    print(\"APS Failure Set successfully imported into a dataframe\")\n",
    "except:\n",
    "    print(\"Something went wrong importing the APS Failure Set\")\n",
    "\n",
    "#As comma is the defaulted delimiter, we dont need to specify it\n",
    "\n",
    "#try to do it trough a url\n",
    "\n"
   ]
  },
  {
   "cell_type": "markdown",
   "id": "cc67f752",
   "metadata": {
    "scrolled": true
   },
   "source": [
    "####### Based on the explanation received, we know the data divides between the errors relating APS and not, \n",
    "######so we divide the main df into 2 different ones."
   ]
  },
  {
   "cell_type": "code",
   "execution_count": 4,
   "id": "95e1c59d",
   "metadata": {},
   "outputs": [],
   "source": [
    "aps_failures=aps_failure_set.loc[aps_failure_set['class']=='pos']\n",
    "not_aps_failures=aps_failure_set.loc[aps_failure_set['class']=='neg']"
   ]
  },
  {
   "cell_type": "markdown",
   "id": "dd9f51b7",
   "metadata": {},
   "source": [
    "###### EXPLANATORY DATA ANALYSIS FOR APS RELATED FAILURES"
   ]
  },
  {
   "cell_type": "code",
   "execution_count": 6,
   "id": "0b82d62f",
   "metadata": {},
   "outputs": [
    {
     "name": "stdout",
     "output_type": "stream",
     "text": [
      "The APS failures dataset has NO na values\n"
     ]
    }
   ],
   "source": [
    " # Check for null and missing values\n",
    "\n",
    "na_values_aps_failures = aps_failures.isna().sum()\n",
    "na_aps = na_values_aps_failures.to_numpy()\n",
    "\n",
    "if np.sum(na_aps) == 0:\n",
    "    print('The APS failures dataset has NO na values')\n",
    "else:\n",
    "    print('The APS failures dataset has na values')\n",
    "\n"
   ]
  },
  {
   "cell_type": "markdown",
   "id": "70b77f4f",
   "metadata": {},
   "source": [
    "####### We know by looking at the data that it actually has na values but the function is not catching them. \n",
    "####### This happens because the na is a string and for python the value is actually not null. \n",
    "####### It is important to always manually review the data and check that the output from the code make sense."
   ]
  },
  {
   "cell_type": "code",
   "execution_count": 8,
   "id": "27c635a8",
   "metadata": {},
   "outputs": [
    {
     "name": "stdout",
     "output_type": "stream",
     "text": [
      "The APS failures dataset has values equal to na\n"
     ]
    }
   ],
   "source": [
    "# We will now look for values equal to 'na'\n",
    "\n",
    "na_values_aps_failures=aps_failures.isin(['na']) #creates a df with True for values=='na' & false for values !='na'\n",
    "\n",
    "if (na_values_aps_failures.any().any())==True: \n",
    "    print('The APS failures dataset has values equal to na')\n",
    "else:\n",
    "     print('The APS failures dataset has NO values equal to na')"
   ]
  },
  {
   "cell_type": "markdown",
   "id": "719d4148",
   "metadata": {},
   "source": [
    "####### As we suspected, we actually have null values. \n",
    "####### These values will need to be excluded from any statistical analysis and python has ways to do so. \n",
    "####### The best method will be to convert those na values into propper NaN's so that the code recognises them latter."
   ]
  },
  {
   "cell_type": "code",
   "execution_count": 10,
   "id": "88e70769",
   "metadata": {},
   "outputs": [
    {
     "name": "stdout",
     "output_type": "stream",
     "text": [
      "The APS failures dataset has na values\n"
     ]
    }
   ],
   "source": [
    "aps_failures=aps_failures.replace(\"na\",np.nan) \n",
    "aps_failures=aps_failures.replace(\"\",np.nan) # In case there are any blank values, we convert them as NaN as well\n",
    "\n",
    "na_aps = na_values_aps_failures.to_numpy()\n",
    "\n",
    "if np.sum(na_aps) == 0:\n",
    "    print('The APS failures dataset has NO na values')\n",
    "else:\n",
    "    print('The APS failures dataset has na values')\n",
    "\n"
   ]
  },
  {
   "cell_type": "code",
   "execution_count": 11,
   "id": "d8dfc602",
   "metadata": {},
   "outputs": [],
   "source": [
    "# Now that we identified the existance of NaN values we will contextualize them and decide if we can drop them. "
   ]
  },
  {
   "cell_type": "code",
   "execution_count": 12,
   "id": "d03bc4ea",
   "metadata": {},
   "outputs": [
    {
     "data": {
      "text/plain": [
       "(1000, 171)"
      ]
     },
     "execution_count": 12,
     "metadata": {},
     "output_type": "execute_result"
    }
   ],
   "source": [
    "aps_failures.shape "
   ]
  },
  {
   "cell_type": "code",
   "execution_count": 13,
   "id": "6738cc90",
   "metadata": {},
   "outputs": [],
   "source": [
    "# We know that we have 1000 rows and 171 columns. So now It will interesting to see which columns have a great % of nulls "
   ]
  },
  {
   "cell_type": "code",
   "execution_count": 14,
   "id": "8d13e099",
   "metadata": {},
   "outputs": [],
   "source": [
    "null_percentages=(aps_failures.isnull().sum()/1000*100)\n",
    "null_percentages = aps_failures.isnull().mean() * 100 # we can also do it with the mean attribute"
   ]
  },
  {
   "cell_type": "code",
   "execution_count": 15,
   "id": "1fe2ee20",
   "metadata": {},
   "outputs": [
    {
     "name": "stdout",
     "output_type": "stream",
     "text": [
      "        High_Null\n",
      "class         0.0\n",
      "aa_000        0.0\n",
      "ab_000       77.1\n",
      "ac_000       46.2\n",
      "ad_000       64.5\n",
      "...           ...\n",
      "ee_007        0.5\n",
      "ee_008        0.5\n",
      "ee_009        0.5\n",
      "ef_000       37.7\n",
      "eg_000       37.7\n",
      "\n",
      "[171 rows x 1 columns]\n"
     ]
    }
   ],
   "source": [
    "High_null_aps_failures = pd.DataFrame(null_percentages, columns=['High_Null']) #Data frame with the % of null values by column\n",
    "print (High_null_aps_failures)"
   ]
  },
  {
   "cell_type": "code",
   "execution_count": 16,
   "id": "7d27355c",
   "metadata": {
    "scrolled": true
   },
   "outputs": [],
   "source": [
    "High_null_aps_failures.reset_index(drop=False, inplace=True) #I need to add an index as the sensor names where not counting as a propper column"
   ]
  },
  {
   "cell_type": "code",
   "execution_count": 17,
   "id": "20ef1489",
   "metadata": {},
   "outputs": [],
   "source": [
    "# print (High_null_aps_failures)"
   ]
  },
  {
   "cell_type": "code",
   "execution_count": 18,
   "id": "96be8861",
   "metadata": {},
   "outputs": [
    {
     "data": {
      "text/plain": [
       "(60, 2)"
      ]
     },
     "execution_count": 18,
     "metadata": {},
     "output_type": "execute_result"
    }
   ],
   "source": [
    "High_null_aps_failures=High_null_aps_failures[High_null_aps_failures.iloc[:,1]>20] #Select the sensors with greater than 20% null values\n",
    "\n",
    "High_null_aps_failures.shape"
   ]
  },
  {
   "cell_type": "code",
   "execution_count": 19,
   "id": "8019547c",
   "metadata": {},
   "outputs": [],
   "source": [
    "# We see that there are 60 sensors with more than 20% of null values. I consider that number too high to analyse them\n",
    "\n",
    "# I'll drop all those columns to focus only on the most reliable data."
   ]
  },
  {
   "cell_type": "code",
   "execution_count": 20,
   "id": "5c9cd0c1",
   "metadata": {},
   "outputs": [],
   "source": [
    "faulty_sensors=High_null_aps_failures.iloc[:,0].tolist() #get the name of the faulty sensors on a list "
   ]
  },
  {
   "cell_type": "code",
   "execution_count": 21,
   "id": "0a6a11d4",
   "metadata": {},
   "outputs": [
    {
     "data": {
      "text/plain": [
       "(1000, 111)"
      ]
     },
     "execution_count": 21,
     "metadata": {},
     "output_type": "execute_result"
    }
   ],
   "source": [
    "aps_failures=aps_failures.drop(faulty_sensors,axis=1)\n",
    "aps_failures.shape"
   ]
  },
  {
   "cell_type": "code",
   "execution_count": 22,
   "id": "57fdb48a",
   "metadata": {},
   "outputs": [],
   "source": [
    "# We droped what I considered faulty sensors by the high null values, but still we have nulls on the other sensors.\n",
    "# The existance of this nulls makes the sample incosistant as we have more records for some sensors. \n",
    "# We will drop the rows with null values to make the data set equal for every sensor type.\n"
   ]
  },
  {
   "cell_type": "code",
   "execution_count": 23,
   "id": "0907cf84",
   "metadata": {},
   "outputs": [
    {
     "data": {
      "text/plain": [
       "(861, 111)"
      ]
     },
     "execution_count": 23,
     "metadata": {},
     "output_type": "execute_result"
    }
   ],
   "source": [
    "aps_failures = aps_failures.dropna()\n",
    "aps_failures.shape"
   ]
  },
  {
   "cell_type": "code",
   "execution_count": 24,
   "id": "711d4562",
   "metadata": {},
   "outputs": [],
   "source": [
    "#We have cleaned our dataset from nulls and \"faulty\" data, but still we have a high number of different sensors to analyse\n",
    "\n",
    "#To make a more in depth analysis, I will select the top 5 sensors that their failures are related to an APS failure."
   ]
  },
  {
   "cell_type": "code",
   "execution_count": 25,
   "id": "13c00ea4",
   "metadata": {},
   "outputs": [],
   "source": [
    "aps_failures.set_index(aps_failures.columns[0],inplace=True) # To calculate the mode I need to exclude the first column, so I'll make it the index\n",
    "\n",
    "aps_failures=aps_failures.astype(float) # Convert all the df to float type. It got converted to int with so many cleaning"
   ]
  },
  {
   "cell_type": "code",
   "execution_count": null,
   "id": "22263d7c",
   "metadata": {},
   "outputs": [],
   "source": [
    "# As each number represents the Component Sensor result we cant group the data with the mean. \n",
    "\n",
    "###### I'll use the mode to detect the most repeated error type by sensor\n"
   ]
  },
  {
   "cell_type": "code",
   "execution_count": 71,
   "id": "23797947",
   "metadata": {},
   "outputs": [],
   "source": [
    "df_melted = aps_failures.melt(var_name='Sensor', value_name='Mode') # Group the number of errors by Sensor type"
   ]
  },
  {
   "cell_type": "code",
   "execution_count": 72,
   "id": "a8e15084",
   "metadata": {},
   "outputs": [
    {
     "name": "stdout",
     "output_type": "stream",
     "text": [
      "       Sensor       Mode\n",
      "0      aa_000   453236.0\n",
      "1      aa_000  1056758.0\n",
      "2      aa_000   361638.0\n",
      "3      aa_000   791254.0\n",
      "4      aa_000  1053152.0\n",
      "...       ...        ...\n",
      "94705  ee_009    10790.0\n",
      "94706  ee_009     2458.0\n",
      "94707  ee_009        0.0\n",
      "94708  ee_009        0.0\n",
      "94709  ee_009        0.0\n",
      "\n",
      "[94710 rows x 2 columns]\n"
     ]
    }
   ],
   "source": [
    "#Failures_mode=aps_failures.mode()\n",
    "print (df_melted)"
   ]
  },
  {
   "cell_type": "code",
   "execution_count": 78,
   "id": "256a4ba2",
   "metadata": {
    "scrolled": true
   },
   "outputs": [
    {
     "data": {
      "text/html": [
       "<div>\n",
       "<style scoped>\n",
       "    .dataframe tbody tr th:only-of-type {\n",
       "        vertical-align: middle;\n",
       "    }\n",
       "\n",
       "    .dataframe tbody tr th {\n",
       "        vertical-align: top;\n",
       "    }\n",
       "\n",
       "    .dataframe thead th {\n",
       "        text-align: right;\n",
       "    }\n",
       "</style>\n",
       "<table border=\"1\" class=\"dataframe\">\n",
       "  <thead>\n",
       "    <tr style=\"text-align: right;\">\n",
       "      <th></th>\n",
       "      <th>Sensor</th>\n",
       "      <th>Mode</th>\n",
       "    </tr>\n",
       "  </thead>\n",
       "  <tbody>\n",
       "    <tr>\n",
       "      <th>0</th>\n",
       "      <td>aa_000</td>\n",
       "      <td>181460.0</td>\n",
       "    </tr>\n",
       "    <tr>\n",
       "      <th>1</th>\n",
       "      <td>ag_000</td>\n",
       "      <td>0.0</td>\n",
       "    </tr>\n",
       "    <tr>\n",
       "      <th>2</th>\n",
       "      <td>ag_001</td>\n",
       "      <td>0.0</td>\n",
       "    </tr>\n",
       "    <tr>\n",
       "      <th>3</th>\n",
       "      <td>ag_002</td>\n",
       "      <td>0.0</td>\n",
       "    </tr>\n",
       "    <tr>\n",
       "      <th>4</th>\n",
       "      <td>ag_003</td>\n",
       "      <td>0.0</td>\n",
       "    </tr>\n",
       "    <tr>\n",
       "      <th>...</th>\n",
       "      <td>...</td>\n",
       "      <td>...</td>\n",
       "    </tr>\n",
       "    <tr>\n",
       "      <th>105</th>\n",
       "      <td>ee_005</td>\n",
       "      <td>0.0</td>\n",
       "    </tr>\n",
       "    <tr>\n",
       "      <th>106</th>\n",
       "      <td>ee_006</td>\n",
       "      <td>0.0</td>\n",
       "    </tr>\n",
       "    <tr>\n",
       "      <th>107</th>\n",
       "      <td>ee_007</td>\n",
       "      <td>0.0</td>\n",
       "    </tr>\n",
       "    <tr>\n",
       "      <th>108</th>\n",
       "      <td>ee_008</td>\n",
       "      <td>0.0</td>\n",
       "    </tr>\n",
       "    <tr>\n",
       "      <th>109</th>\n",
       "      <td>ee_009</td>\n",
       "      <td>0.0</td>\n",
       "    </tr>\n",
       "  </tbody>\n",
       "</table>\n",
       "<p>110 rows × 2 columns</p>\n",
       "</div>"
      ],
      "text/plain": [
       "     Sensor      Mode\n",
       "0    aa_000  181460.0\n",
       "1    ag_000       0.0\n",
       "2    ag_001       0.0\n",
       "3    ag_002       0.0\n",
       "4    ag_003       0.0\n",
       "..      ...       ...\n",
       "105  ee_005       0.0\n",
       "106  ee_006       0.0\n",
       "107  ee_007       0.0\n",
       "108  ee_008       0.0\n",
       "109  ee_009       0.0\n",
       "\n",
       "[110 rows x 2 columns]"
      ]
     },
     "execution_count": 78,
     "metadata": {},
     "output_type": "execute_result"
    }
   ],
   "source": [
    "# Get the mode of each column\n",
    "modes = aps_failures.mode().iloc[0]\n",
    "\n",
    "# Convert to DataFrame and reset index\n",
    "df_modes = pd.DataFrame(modes).reset_index()\n",
    "\n",
    "# Rename the columns\n",
    "df_modes.columns = ['Sensor', 'Mode']\n",
    "\n",
    "df_modes"
   ]
  },
  {
   "cell_type": "code",
   "execution_count": 83,
   "id": "5e614332",
   "metadata": {},
   "outputs": [
    {
     "name": "stdout",
     "output_type": "stream",
     "text": [
      "    Sensor         Mode\n",
      "0   aa_000    181460.00\n",
      "11  ah_000  14818484.00\n",
      "16  an_000  16230962.00\n",
      "17  ao_000  13692914.00\n",
      "18  ap_000   6904476.00\n",
      "19  aq_000   3618134.00\n",
      "53  bb_000  24654966.00\n",
      "54  bg_000  14818484.00\n",
      "55  bh_000    363444.00\n",
      "56  bi_000   1550620.00\n",
      "57  bj_000   5339498.00\n",
      "58  bk_000    387860.00\n",
      "59  bl_000    393520.00\n",
      "60  bm_000    424600.00\n",
      "61  bn_000    438120.00\n",
      "62  bo_000   1310700.00\n",
      "63  bp_000   1310700.00\n",
      "64  bq_000   1310700.00\n",
      "65  br_000   1310700.00\n",
      "66  bs_000     22880.00\n",
      "67  bt_000    181459.46\n",
      "68  bu_000  24654966.00\n",
      "69  bv_000  24654966.00\n",
      "70  bx_000       226.00\n",
      "72  cb_000     42860.00\n",
      "74  cd_000   1209600.00\n",
      "75  ci_000  14244931.20\n",
      "77  ck_000  10022479.68\n",
      "88  cq_000  24654966.00\n",
      "99  dn_000    242252.00\n"
     ]
    }
   ],
   "source": [
    "df_modes=df_modes[df_modes['Mode'] != 0]\n",
    "\n",
    "print (df_modes)"
   ]
  },
  {
   "cell_type": "code",
   "execution_count": 65,
   "id": "f301a22b",
   "metadata": {},
   "outputs": [
    {
     "name": "stdout",
     "output_type": "stream",
     "text": [
      "bb_000    5.313761e+07\n",
      "bv_000    5.313761e+07\n",
      "cq_000    5.313761e+07\n",
      "bu_000    5.313761e+07\n",
      "bx_000    4.548410e+07\n",
      "cc_000    4.274224e+07\n",
      "ci_000    4.026532e+07\n",
      "an_000    3.721372e+07\n",
      "ao_000    3.218488e+07\n",
      "az_005    2.435005e+07\n",
      "cs_005    2.206840e+07\n",
      "ah_000    1.992681e+07\n",
      "bg_000    1.992681e+07\n",
      "ba_000    1.438220e+07\n",
      "ap_000    1.418936e+07\n",
      "cn_004    1.394432e+07\n",
      "ay_008    1.384981e+07\n",
      "ay_007    1.372521e+07\n",
      "az_004    1.336726e+07\n",
      "ag_006    1.331767e+07\n",
      "Name: Mode, dtype: float64\n"
     ]
    }
   ],
   "source": []
  },
  {
   "cell_type": "code",
   "execution_count": 81,
   "id": "4370841e",
   "metadata": {},
   "outputs": [
    {
     "name": "stdout",
     "output_type": "stream",
     "text": [
      "Sensor        dn_000\n",
      "Mode      24654966.0\n",
      "dtype: object\n",
      "Sensor    aa_000\n",
      "Mode       226.0\n",
      "dtype: object\n"
     ]
    }
   ],
   "source": []
  },
  {
   "cell_type": "code",
   "execution_count": 82,
   "id": "8bc8e730",
   "metadata": {},
   "outputs": [
    {
     "data": {
      "text/plain": [
       "Text(0.5, 0, 'Sensor type')"
      ]
     },
     "execution_count": 82,
     "metadata": {},
     "output_type": "execute_result"
    },
    {
     "data": {
      "image/png": "[encoded data removed]",
      "text/plain": [
       "<Figure size 720x360 with 1 Axes>"
      ]
     },
     "metadata": {},
     "output_type": "display_data"
    }
   ],
   "source": [
    "df_top_20.Sensor.value_counts().plot(kind='bar', figsize=(10,5))\n",
    "plt.title(\"Number of errors by sensor type\")\n",
    "plt.ylabel(\"Number of errors\")\n",
    "plt.xlabel(\"Sensor type\")\n",
    "\n"
   ]
  },
  {
   "cell_type": "code",
   "execution_count": 39,
   "id": "dd82bdd1",
   "metadata": {},
   "outputs": [
    {
     "name": "stdout",
     "output_type": "stream",
     "text": [
      "192871534.0\n",
      "152457314.0\n"
     ]
    }
   ],
   "source": []
  },
  {
   "cell_type": "code",
   "execution_count": 59,
   "id": "718d3895",
   "metadata": {},
   "outputs": [
    {
     "name": "stdout",
     "output_type": "stream",
     "text": [
      "       Sensor  Number of Errors\n",
      "75926  cq_000       192871534.0\n",
      "59567  bv_000       192871534.0\n",
      "58706  bu_000       192871534.0\n",
      "45791  bb_000       192871534.0\n",
      "59086  bu_000       174389278.0\n",
      "76306  cq_000       174389278.0\n",
      "46171  bb_000       174389278.0\n",
      "59947  bv_000       174389278.0\n",
      "61001  bx_000       162793482.0\n",
      "60322  bx_000       157403558.0\n",
      "58970  bu_000       156119556.0\n",
      "59831  bv_000       156119556.0\n",
      "46055  bb_000       156119556.0\n",
      "76190  cq_000       156119556.0\n",
      "60972  bx_000       154113680.0\n",
      "59250  bu_000       154053392.0\n",
      "46335  bb_000       154053392.0\n",
      "76470  cq_000       154053392.0\n",
      "60111  bv_000       154053392.0\n",
      "59042  bu_000       152457314.0\n"
     ]
    }
   ],
   "source": []
  },
  {
   "cell_type": "code",
   "execution_count": null,
   "id": "cc2e87b2",
   "metadata": {},
   "outputs": [],
   "source": []
  },
  {
   "cell_type": "code",
   "execution_count": 63,
   "id": "9852b870",
   "metadata": {},
   "outputs": [
    {
     "data": {
      "text/plain": [
       "Text(0.5, 0, 'Sensor type')"
      ]
     },
     "execution_count": 63,
     "metadata": {},
     "output_type": "execute_result"
    },
    {
     "data": {
      "image/png": "[encoded data removed]",
      "text/plain": [
       "<Figure size 720x360 with 1 Axes>"
      ]
     },
     "metadata": {},
     "output_type": "display_data"
    }
   ],
   "source": []
  },
  {
   "cell_type": "code",
   "execution_count": null,
   "id": "47535506",
   "metadata": {},
   "outputs": [],
   "source": []
  },
  {
   "cell_type": "code",
   "execution_count": null,
   "id": "6773616a",
   "metadata": {},
   "outputs": [],
   "source": []
  },
  {
   "cell_type": "code",
   "execution_count": null,
   "id": "0674daea",
   "metadata": {},
   "outputs": [],
   "source": []
  },
  {
   "cell_type": "code",
   "execution_count": null,
   "id": "a188d90b",
   "metadata": {},
   "outputs": [],
   "source": []
  },
  {
   "cell_type": "code",
   "execution_count": null,
   "id": "8db9a8c5",
   "metadata": {},
   "outputs": [],
   "source": []
  }
 ],
 "metadata": {
  "kernelspec": {
   "display_name": "Python 3",
   "language": "python",
   "name": "python3"
  },
  "language_info": {
   "codemirror_mode": {
    "name": "ipython",
    "version": 3
   },
   "file_extension": ".py",
   "mimetype": "text/x-python",
   "name": "python",
   "nbconvert_exporter": "python",
   "pygments_lexer": "ipython3",
   "version": "3.8.8"
  }
 },
 "nbformat": 4,
 "nbformat_minor": 5
}
